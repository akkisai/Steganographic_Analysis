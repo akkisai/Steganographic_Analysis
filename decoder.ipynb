{
 "cells": [
  {
   "cell_type": "markdown",
   "id": "49c4edd3",
   "metadata": {},
   "source": [
    "## Import Libraries"
   ]
  },
  {
   "cell_type": "code",
   "execution_count": null,
   "id": "5a8b3dc0",
   "metadata": {},
   "outputs": [],
   "source": [
    "import random\n",
    "import string\n",
    "import numpy as np\n",
    "from PIL import Image"
   ]
  },
  {
   "cell_type": "markdown",
   "id": "b29aa9ed",
   "metadata": {},
   "source": [
    "## Define Helper Functions for encoding the message in image"
   ]
  },
  {
   "cell_type": "code",
   "execution_count": null,
   "id": "3165920a",
   "metadata": {},
   "outputs": [],
   "source": [
    "def string_to_binary(message):\n",
    "    return ''.join(format(ord(c), '08b') for c in message)\n",
    "\n",
    "def encode_lsb_row_wise(image, binary_message, bits=1):\n",
    "    encoded_image = image.copy()\n",
    "    height, width, channels = encoded_image.shape\n",
    "    bin_len = len(binary_message)\n",
    "    \n",
    "    total_pixels = height * width * channels\n",
    "    random_start = random.randint(0, max(0, total_pixels - (bin_len // bits) - 10))\n",
    "    flat_image = encoded_image.reshape(-1)\n",
    "    \n",
    "    max_bits = (len(flat_image) - random_start) * bits\n",
    "    if len(binary_message) > max_bits:\n",
    "        binary_message = binary_message[:max_bits]\n",
    "    \n",
    "    index = random_start\n",
    "    binary_index = 0\n",
    "    \n",
    "    while binary_index < len(binary_message) and index < len(flat_image):\n",
    "        bit_end = min(binary_index + bits, len(binary_message))\n",
    "        bits_to_encode = binary_message[binary_index:bit_end]\n",
    "        \n",
    "        bits_to_encode = bits_to_encode.ljust(bits, '0')\n",
    "        \n",
    "        binary_value = int(bits_to_encode, 2)\n",
    "        \n",
    "        if bits == 8:\n",
    "            flat_image[index] = binary_value\n",
    "        else:\n",
    "            mask = 256 - (2**bits)\n",
    "            pixel_value = flat_image[index]\n",
    "            pixel_value = (pixel_value & mask) | binary_value\n",
    "            flat_image[index] = pixel_value\n",
    "        \n",
    "        index += 1\n",
    "        binary_index += bits\n",
    "    \n",
    "    encoded_image = flat_image.reshape(height, width, channels)\n",
    "    return encoded_image, random_start"
   ]
  },
  {
   "cell_type": "markdown",
   "id": "996f60c8",
   "metadata": {},
   "source": [
    "## Encodes a message into an image and saves the encoded image to the specified output path."
   ]
  },
  {
   "cell_type": "code",
   "execution_count": null,
   "id": "452064be",
   "metadata": {},
   "outputs": [],
   "source": [
    "def encode_image(image_path, message, output_path, bits=1):\n",
    "    image = Image.open(image_path)\n",
    "    image = np.array(image)\n",
    "    \n",
    "    binary_message = string_to_binary(message) \n",
    "    \n",
    "    encoded_image, random_start = encode_lsb_row_wise(image, binary_message, bits)\n",
    "    encoded_pil_image = Image.fromarray(encoded_image)\n",
    "    encoded_pil_image.save(output_path)\n",
    "    \n",
    "    print(f\"Encoded image saved at {output_path} with random start index {random_start}\")"
   ]
  },
  {
   "cell_type": "markdown",
   "id": "834abd18",
   "metadata": {},
   "source": [
    "## We are resizing the image to decode the images fastly (for demostrating purpose)"
   ]
  },
  {
   "cell_type": "code",
   "execution_count": 1,
   "id": "85acd564",
   "metadata": {},
   "outputs": [],
   "source": [
    "def resize_image(image_path, output_path, size=(256, 256)):\n",
    "    image = Image.open(image_path)\n",
    "    resized_image = image.resize(size)\n",
    "    resized_image.save(output_path)\n",
    "    print(f\"Resized image saved at {output_path} with size {size}\")"
   ]
  },
  {
   "cell_type": "code",
   "execution_count": 45,
   "id": "bdec3cff",
   "metadata": {},
   "outputs": [
    {
     "name": "stdout",
     "output_type": "stream",
     "text": [
      "Resized image saved at ./test/4.png with size (32, 32)\n"
     ]
    }
   ],
   "source": [
    "resize_image(\"./dataset_4/cover/01158.png\", \"./test/4.png\", size=(32, 32))"
   ]
  },
  {
   "cell_type": "code",
   "execution_count": 23,
   "id": "1b5bab2a",
   "metadata": {},
   "outputs": [
    {
     "name": "stdout",
     "output_type": "stream",
     "text": [
      "Encoded image saved at ./test/encoded_image4.png with random start index 241\n"
     ]
    }
   ],
   "source": [
    "encode_image('./test/4.png', 'Rahul is at location x', './test/encoded_image4.png', bits=4)"
   ]
  },
  {
   "cell_type": "markdown",
   "id": "8e878fd3",
   "metadata": {},
   "source": [
    "## Brute force decoding"
   ]
  },
  {
   "cell_type": "code",
   "execution_count": 1,
   "id": "94cbef75",
   "metadata": {},
   "outputs": [],
   "source": [
    "import numpy as np\n",
    "from PIL import Image\n",
    "import string\n",
    "\n",
    "def extract_lsb_bits(arr, lsb_count):\n",
    "    mask = (1 << lsb_count) - 1\n",
    "    bits = np.unpackbits(arr & mask, axis=None)\n",
    "    bits = bits.reshape(-1, 8)[:, -lsb_count:].flatten()\n",
    "    return bits\n",
    "\n",
    "def bits_to_bytes(bits):\n",
    "    n = len(bits) // 8\n",
    "    bits = bits[:n*8]\n",
    "    return np.packbits(bits).tobytes()\n",
    "\n",
    "def is_printable(s, threshold=0.9):\n",
    "    printable = set(string.printable.encode())\n",
    "    return sum(c in printable for c in s) / len(s) > threshold\n",
    "\n",
    "def decode_lsb(image_path, min_msg_len=8, max_msg_len=64):\n",
    "    img = Image.open(image_path)\n",
    "    arr = np.array(img).flatten()\n",
    "    results = []\n",
    "\n",
    "    for lsb_count in range(1, 9):\n",
    "        bits = extract_lsb_bits(arr, lsb_count)\n",
    "        for msg_len in range(min_msg_len, max_msg_len+1):\n",
    "            total_bits = msg_len * 8\n",
    "            for start in range(0, len(bits) - total_bits + 1):\n",
    "                msg_bits = bits[start:start+total_bits]\n",
    "                msg_bytes = bits_to_bytes(msg_bits)\n",
    "                if is_printable(msg_bytes):\n",
    "                    try:\n",
    "                        msg = msg_bytes.decode(errors='ignore')\n",
    "                        results.append((lsb_count, start, msg))\n",
    "                    except Exception:\n",
    "                        continue\n",
    "    return results"
   ]
  },
  {
   "cell_type": "markdown",
   "id": "d4350e39",
   "metadata": {},
   "source": [
    "## Decode LSB Example"
   ]
  },
  {
   "cell_type": "code",
   "execution_count": 2,
   "id": "f549103b",
   "metadata": {},
   "outputs": [],
   "source": [
    "results = decode_lsb('./test/encoded_image5.png')"
   ]
  },
  {
   "cell_type": "code",
   "execution_count": null,
   "id": "addfdb3b",
   "metadata": {},
   "outputs": [],
   "source": [
    "results"
   ]
  }
 ],
 "metadata": {
  "kernelspec": {
   "display_name": "datasci",
   "language": "python",
   "name": "python3"
  },
  "language_info": {
   "codemirror_mode": {
    "name": "ipython",
    "version": 3
   },
   "file_extension": ".py",
   "mimetype": "text/x-python",
   "name": "python",
   "nbconvert_exporter": "python",
   "pygments_lexer": "ipython3",
   "version": "3.11.11"
  }
 },
 "nbformat": 4,
 "nbformat_minor": 5
}
