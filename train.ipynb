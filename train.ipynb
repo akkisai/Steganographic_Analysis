{
 "cells": [
  {
   "cell_type": "markdown",
   "id": "def6f332",
   "metadata": {},
   "source": [
    "## Importing Libraries"
   ]
  },
  {
   "cell_type": "code",
   "execution_count": 2,
   "id": "933eb51f",
   "metadata": {},
   "outputs": [
    {
     "data": {
      "text/plain": [
       "device(type='cuda')"
      ]
     },
     "execution_count": 2,
     "metadata": {},
     "output_type": "execute_result"
    }
   ],
   "source": [
    "import os\n",
    "import pandas as pd\n",
    "import torch\n",
    "import torch.nn as nn\n",
    "import torch.nn.functional as F\n",
    "from torch.utils.data import Dataset, DataLoader\n",
    "from torchvision import transforms\n",
    "from PIL import Image\n",
    "import numpy as np\n",
    "import time\n",
    "\n",
    "\n",
    "device = torch.device('cuda')\n",
    "device"
   ]
  },
  {
   "cell_type": "markdown",
   "id": "42be6c02",
   "metadata": {},
   "source": [
    "## Dataset & MODEL Modules"
   ]
  },
  {
   "cell_type": "code",
   "execution_count": 3,
   "id": "a5bd644d",
   "metadata": {},
   "outputs": [],
   "source": [
    "class StegoDataset(Dataset):\n",
    "    def __init__(self, metadata_file, cover_dir, stego_dir, transform=None):\n",
    "        self.metadata = pd.read_csv(metadata_file)\n",
    "        self.cover_dir = cover_dir\n",
    "        self.stego_dir = stego_dir\n",
    "        self.transform = transform\n",
    "    \n",
    "    def __len__(self):\n",
    "        return len(self.metadata)\n",
    "    \n",
    "    def __getitem__(self, idx):\n",
    "        if torch.is_tensor(idx):\n",
    "            idx = idx.tolist()\n",
    "        \n",
    "        img_name = self.metadata.iloc[idx]['image_name']\n",
    "        is_stego = self.metadata.iloc[idx]['is_stego']\n",
    "        \n",
    "        # Load the image from appropriate directory\n",
    "        if is_stego == 1:\n",
    "            img_path = os.path.join(self.stego_dir, img_name)\n",
    "        else:\n",
    "            img_path = os.path.join(self.cover_dir, img_name)\n",
    "        \n",
    "        image = Image.open(img_path).convert('RGB')\n",
    "        \n",
    "        if self.transform:\n",
    "            image = self.transform(image)\n",
    "        \n",
    "        # Label: 1 for stego, 0 for cover\n",
    "        label = torch.tensor(is_stego, dtype=torch.float32)\n",
    "        \n",
    "        return image, label\n",
    "\n",
    "\n",
    "def get_data_loaders(dataset_dir, batch_size=32, train_ratio=0.8, val_ratio=0.1):\n",
    "    metadata_file = os.path.join(dataset_dir, 'metadata.txt')\n",
    "    cover_dir = os.path.join(dataset_dir, 'cover')\n",
    "    stego_dir = os.path.join(dataset_dir, 'stego')\n",
    "\n",
    "    transform = transforms.Compose([\n",
    "        transforms.ToTensor(),\n",
    "    ])\n",
    "    \n",
    "    dataset = StegoDataset(metadata_file, cover_dir, stego_dir, transform=transform)\n",
    "    \n",
    "    dataset_size = len(dataset)\n",
    "    train_size = int(train_ratio * dataset_size)\n",
    "    val_size = int(val_ratio * dataset_size)\n",
    "    test_size = dataset_size - train_size - val_size\n",
    "    \n",
    "    train_dataset, val_dataset, test_dataset = torch.utils.data.random_split(\n",
    "        dataset, [train_size, val_size, test_size],\n",
    "        generator=torch.Generator().manual_seed(42)\n",
    "    )\n",
    "    \n",
    "    train_loader = DataLoader(\n",
    "        train_dataset,\n",
    "        batch_size=batch_size,\n",
    "        shuffle=True,\n",
    "        num_workers=4\n",
    "    )\n",
    "    \n",
    "    val_loader = DataLoader(\n",
    "        val_dataset,\n",
    "        batch_size=batch_size,\n",
    "        shuffle=False,\n",
    "        num_workers=4\n",
    "    )\n",
    "    \n",
    "    test_loader = DataLoader(\n",
    "        test_dataset,\n",
    "        batch_size=batch_size,\n",
    "        shuffle=False,\n",
    "        num_workers=4\n",
    "    )\n",
    "    \n",
    "    return train_loader, val_loader, test_loader"
   ]
  },
  {
   "cell_type": "markdown",
   "id": "2690f0e2",
   "metadata": {},
   "source": [
    "# YE NET"
   ]
  },
  {
   "cell_type": "code",
   "execution_count": 4,
   "id": "864fdd3c",
   "metadata": {},
   "outputs": [],
   "source": [
    "class SRM_conv2d(nn.Module):\n",
    "    def __init__(self):\n",
    "        super(SRM_conv2d, self).__init__()\n",
    "        q = [4.0, 12.0, 2.0]\n",
    "        filter1 = [[0, 0, 0, 0, 0],\n",
    "                  [0, -1, 2, -1, 0],\n",
    "                  [0, 2, -4, 2, 0],\n",
    "                  [0, -1, 2, -1, 0],\n",
    "                  [0, 0, 0, 0, 0]]\n",
    "        filter2 = [[-1, 2, -2, 2, -1],\n",
    "                  [2, -6, 8, -6, 2],\n",
    "                  [-2, 8, -12, 8, -2],\n",
    "                  [2, -6, 8, -6, 2],\n",
    "                  [-1, 2, -2, 2, -1]]\n",
    "        filter3 = [[0, 0, 0, 0, 0],\n",
    "                  [0, 0, 0, 0, 0],\n",
    "                  [0, 1, -2, 1, 0],\n",
    "                  [0, 0, 0, 0, 0],\n",
    "                  [0, 0, 0, 0, 0]]\n",
    "        \n",
    "        srm_filters = [filter1, filter2, filter3]\n",
    "        srm_weight = torch.zeros(3, 1, 5, 5)\n",
    "        \n",
    "        for idx, kernel in enumerate(srm_filters):\n",
    "            srm_weight[idx, 0] = torch.FloatTensor(kernel)\n",
    "        \n",
    "        self.srm = nn.Conv2d(1, 3, kernel_size=5, stride=1, padding=2, bias=False)\n",
    "        self.srm.weight = nn.Parameter(srm_weight, requires_grad=False)\n",
    "    \n",
    "    def forward(self, x):\n",
    "        r, g, b = torch.split(x, 1, dim=1)\n",
    "        \n",
    "        r_srm = self.srm(r)\n",
    "        g_srm = self.srm(g)\n",
    "        b_srm = self.srm(b)\n",
    "        \n",
    "        # Concatenate results\n",
    "        srm_output = torch.cat([r_srm, g_srm, b_srm], dim=1)\n",
    "        return srm_output\n",
    "\n",
    "class YeNet(nn.Module):\n",
    "    def __init__(self):\n",
    "        super(YeNet, self).__init__()\n",
    "        \n",
    "        # SRM preprocessing layer\n",
    "        self.srm = SRM_conv2d()\n",
    "        \n",
    "        # First group of convolutional layers with stride=2 to reduce dimensions early\n",
    "        self.conv1 = nn.Sequential(\n",
    "            nn.Conv2d(9, 16, kernel_size=3, padding=1, stride=2), \n",
    "            nn.BatchNorm2d(16),\n",
    "            nn.ReLU(),\n",
    "            nn.MaxPool2d(kernel_size=2, stride=2)\n",
    "        )\n",
    "        \n",
    "        # Second group\n",
    "        self.conv2 = nn.Sequential(\n",
    "            nn.Conv2d(16, 32, kernel_size=3, padding=1),  \n",
    "            nn.BatchNorm2d(32),\n",
    "            nn.ReLU(),\n",
    "            nn.MaxPool2d(kernel_size=2, stride=2)\n",
    "        )\n",
    "        \n",
    "        # Third group\n",
    "        self.conv3 = nn.Sequential(\n",
    "            nn.Conv2d(32, 64, kernel_size=3, padding=1),  \n",
    "            nn.BatchNorm2d(64),\n",
    "            nn.ReLU(),\n",
    "            nn.MaxPool2d(kernel_size=2, stride=2)\n",
    "        )\n",
    "        \n",
    "        # Fourth group\n",
    "        self.conv4 = nn.Sequential(\n",
    "            nn.Conv2d(64, 128, kernel_size=3, padding=1), \n",
    "            nn.BatchNorm2d(128),\n",
    "            nn.ReLU(),\n",
    "            nn.MaxPool2d(kernel_size=2, stride=2)\n",
    "        )\n",
    "        \n",
    "        self.global_pool = nn.AdaptiveAvgPool2d((4, 4))\n",
    "        \n",
    "        # Fully connected layers with much fewer parameters\n",
    "        self.fc = nn.Sequential(\n",
    "            nn.Linear(128 * 4 * 4, 512),  \n",
    "            nn.ReLU(),\n",
    "            nn.Dropout(0.5),\n",
    "            nn.Linear(512, 128),\n",
    "            nn.ReLU(),\n",
    "            nn.Dropout(0.5),\n",
    "            nn.Linear(128, 1)\n",
    "        )\n",
    "    \n",
    "    def forward(self, x):\n",
    "        # SRM preprocessing\n",
    "        out = self.srm(x)\n",
    "        \n",
    "        # Convolutional layers\n",
    "        out = self.conv1(out)\n",
    "        out = self.conv2(out)\n",
    "        out = self.conv3(out)\n",
    "        out = self.conv4(out)\n",
    "        \n",
    "        # Global pooling\n",
    "        out = self.global_pool(out)\n",
    "        \n",
    "        # Flatten\n",
    "        out = out.view(out.size(0), -1)\n",
    "        \n",
    "        # Fully connected layers\n",
    "        out = self.fc(out)\n",
    "        \n",
    "        return torch.sigmoid(out)  # Convert to probability"
   ]
  },
  {
   "cell_type": "markdown",
   "id": "562d21c3",
   "metadata": {},
   "source": [
    "# SR Model"
   ]
  },
  {
   "cell_type": "code",
   "execution_count": null,
   "id": "0c154ca1",
   "metadata": {},
   "outputs": [],
   "source": [
    "class SRNet(nn.Module):\n",
    "    \"\"\"\n",
    "    Lightweight implementation of SRNet architecture for steganalysis.\n",
    "    Reduced parameters for easier GPU training.\n",
    "    \"\"\"\n",
    "    def __init__(self):\n",
    "        super(SRNet, self).__init__()\n",
    "        \n",
    "        # Reduced filters throughout the network\n",
    "        \n",
    "        # Preprocessing (reduced from 64 to 32 filters)\n",
    "        self.preprocess = nn.Sequential(\n",
    "            nn.Conv2d(3, 32, kernel_size=3, padding=1),\n",
    "            nn.BatchNorm2d(32),\n",
    "            nn.ReLU()\n",
    "        )\n",
    "        \n",
    "        # Layer 1 (reduced from 64 to 32 filters)\n",
    "        self.layer1 = nn.Sequential(\n",
    "            nn.Conv2d(32, 32, kernel_size=3, padding=1),\n",
    "            nn.BatchNorm2d(32),\n",
    "            nn.ReLU(),\n",
    "            nn.Conv2d(32, 32, kernel_size=3, padding=1),\n",
    "            nn.BatchNorm2d(32),\n",
    "            nn.ReLU()\n",
    "        )\n",
    "        \n",
    "        # Layer 2 (reduced from 128 to 64 filters)\n",
    "        self.layer2 = nn.Sequential(\n",
    "            nn.Conv2d(32, 64, kernel_size=3, padding=1, stride=2),\n",
    "            nn.BatchNorm2d(64),\n",
    "            nn.ReLU(),\n",
    "            nn.Conv2d(64, 64, kernel_size=3, padding=1),\n",
    "            nn.BatchNorm2d(64),\n",
    "            nn.ReLU()\n",
    "        )\n",
    "        \n",
    "        # Layer 3 (reduced from 256 to 96 filters)\n",
    "        self.layer3 = nn.Sequential(\n",
    "            nn.Conv2d(64, 96, kernel_size=3, padding=1, stride=2),\n",
    "            nn.BatchNorm2d(96),\n",
    "            nn.ReLU(),\n",
    "            nn.Conv2d(96, 96, kernel_size=3, padding=1),\n",
    "            nn.BatchNorm2d(96),\n",
    "            nn.ReLU()\n",
    "        )\n",
    "        \n",
    "        # Layer 4 (reduced from 512 to 128 filters)\n",
    "        self.layer4 = nn.Sequential(\n",
    "            nn.Conv2d(96, 128, kernel_size=3, padding=1, stride=2),\n",
    "            nn.BatchNorm2d(128),\n",
    "            nn.ReLU(),\n",
    "            nn.Conv2d(128, 128, kernel_size=3, padding=1),\n",
    "            nn.BatchNorm2d(128),\n",
    "            nn.ReLU()\n",
    "        )\n",
    "        \n",
    "        # Global Average Pooling\n",
    "        self.gap = nn.AdaptiveAvgPool2d(1)\n",
    "        \n",
    "        # Fully connected layer (reduced from 512 to 128 filters)\n",
    "        self.fc = nn.Linear(128, 1)\n",
    "    \n",
    "    def forward(self, x):\n",
    "        out = self.preprocess(x)\n",
    "        out = self.layer1(out)\n",
    "        out = self.layer2(out)\n",
    "        out = self.layer3(out)\n",
    "        out = self.layer4(out)\n",
    "        \n",
    "        out = self.gap(out)\n",
    "        out = out.view(out.size(0), -1)\n",
    "        out = self.fc(out)\n",
    "        \n",
    "        return torch.sigmoid(out)"
   ]
  },
  {
   "cell_type": "markdown",
   "id": "e2c51e1b",
   "metadata": {},
   "source": [
    "# Training"
   ]
  },
  {
   "cell_type": "code",
   "execution_count": null,
   "id": "f4afd460",
   "metadata": {},
   "outputs": [],
   "source": [
    "def train(model, train_loader, val_loader, criterion, optimizer, scheduler=None, num_epochs=10, device='cuda',\n",
    "          save_path='model.pth', accumulation_steps=1, use_amp=False, scaler=None):\n",
    "    import time\n",
    "    import torch\n",
    "    from tqdm import tqdm\n",
    "    import gc\n",
    "    \n",
    "    best_val_loss = float('inf')\n",
    "    \n",
    "    for epoch in range(num_epochs):\n",
    "        model.train()\n",
    "        running_loss = 0.0\n",
    "        correct = 0\n",
    "        total = 0\n",
    "        optimizer.zero_grad()\n",
    "        \n",
    "        start_time = time.time()\n",
    "        \n",
    "        gc.collect()\n",
    "        torch.cuda.empty_cache()\n",
    "        \n",
    "        train_pbar = tqdm(train_loader, desc=f'Epoch {epoch+1}/{num_epochs} [Train]')\n",
    "        \n",
    "        for batch_idx, (inputs, labels) in enumerate(train_pbar):\n",
    "            inputs = inputs.to(device, non_blocking=True)  \n",
    "            labels = labels.to(device, non_blocking=True)\n",
    "            \n",
    "            if use_amp:\n",
    "                with torch.amp.autocast(device_type='cuda'):\n",
    "                    outputs = model(inputs)\n",
    "                    loss = criterion(outputs, labels.view(-1, 1))\n",
    "                    loss = loss / accumulation_steps  \n",
    "            \n",
    "                scaler.scale(loss).backward()\n",
    "                \n",
    "                if (batch_idx + 1) % accumulation_steps == 0:\n",
    "                    scaler.step(optimizer)\n",
    "                    scaler.update()\n",
    "                    optimizer.zero_grad()\n",
    "            else:\n",
    "                outputs = model(inputs)\n",
    "                loss = criterion(outputs, labels.view(-1, 1))\n",
    "                loss = loss / accumulation_steps  \n",
    "                loss.backward()\n",
    "                \n",
    "                if (batch_idx + 1) % accumulation_steps == 0:\n",
    "                    optimizer.step()\n",
    "                    optimizer.zero_grad()\n",
    "            \n",
    "            # Calculate accuracy\n",
    "            predicted = (outputs > 0.5).float()\n",
    "            total += labels.size(0)\n",
    "            correct += (predicted.view(-1) == labels).sum().item()\n",
    "            \n",
    "            # Accumulate loss\n",
    "            running_loss += loss.item() * accumulation_steps\n",
    "            \n",
    "    \n",
    "            train_acc = 100 * correct / total\n",
    "            train_pbar.set_postfix({\n",
    "                'loss': f'{running_loss/(batch_idx+1):.3f}',\n",
    "                'acc': f'{train_acc:.2f}%',\n",
    "                'mem': f'{torch.cuda.memory_allocated()/1024**2:.1f}MB'\n",
    "            })\n",
    "            \n",
    "    \n",
    "            del inputs, labels, outputs, loss\n",
    "            if batch_idx % 10 == 0:\n",
    "                torch.cuda.empty_cache()\n",
    "        \n",
    "        model.eval()\n",
    "        val_loss = 0.0\n",
    "        val_correct = 0\n",
    "        val_total = 0\n",
    "        \n",
    "        val_pbar = tqdm(val_loader, desc=f'Epoch {epoch+1}/{num_epochs} [Valid]')\n",
    "        \n",
    "        with torch.no_grad():  \n",
    "            for inputs, labels in val_pbar:\n",
    "                inputs = inputs.to(device, non_blocking=True)\n",
    "                labels = labels.to(device, non_blocking=True)\n",
    "                \n",
    "                if use_amp:\n",
    "                    with torch.amp.autocast(device_type='cuda'):\n",
    "                        outputs = model(inputs)\n",
    "                        loss = criterion(outputs, labels.view(-1, 1))\n",
    "                else:\n",
    "                    outputs = model(inputs)\n",
    "                    loss = criterion(outputs, labels.view(-1, 1))\n",
    "                \n",
    "                val_loss += loss.item()\n",
    "                \n",
    "                predicted = (outputs > 0.5).float()\n",
    "                val_total += labels.size(0)\n",
    "                val_correct += (predicted.view(-1) == labels).sum().item()\n",
    "                \n",
    "                val_acc = 100 * val_correct / val_total\n",
    "                val_pbar.set_postfix({\n",
    "                    'loss': f'{val_loss/(val_pbar.n+1):.4f}',\n",
    "                    'acc': f'{val_acc:.2f}%'\n",
    "                })\n",
    "                \n",
    "                del inputs, labels, outputs, loss\n",
    "            \n",
    "            torch.cuda.empty_cache()\n",
    "        \n",
    "        val_loss = val_loss / len(val_loader)\n",
    "        val_acc = 100 * val_correct / val_total\n",
    "        \n",
    "        print(f'Epoch {epoch+1}/{num_epochs} - '\n",
    "              f'Train Loss: {running_loss/len(train_loader):.4f}, '\n",
    "              f'Train Acc: {100*correct/total:.2f}%, '\n",
    "              f'Val Loss: {val_loss:.4f}, '\n",
    "              f'Val Acc: {val_acc:.2f}%, '\n",
    "              f'Time: {time.time()-start_time:.2f}s')\n",
    "        \n",
    "        if scheduler:\n",
    "            if isinstance(scheduler, torch.optim.lr_scheduler.ReduceLROnPlateau):\n",
    "                scheduler.step(val_loss)\n",
    "            else:\n",
    "                scheduler.step()\n",
    "        \n",
    "        if val_loss < best_val_loss:\n",
    "            best_val_loss = val_loss\n",
    "            torch.save(model.state_dict(), save_path)\n",
    "            print(f'Model saved to {save_path}')\n",
    "    \n",
    "    return model"
   ]
  },
  {
   "cell_type": "markdown",
   "id": "a8900cc6",
   "metadata": {},
   "source": [
    "# LSB 8 Train"
   ]
  },
  {
   "cell_type": "code",
   "execution_count": 11,
   "id": "b77e1289",
   "metadata": {},
   "outputs": [],
   "source": [
    "train_loader, val_loader, test_loader = get_data_loaders(\n",
    "    dataset_dir='dataset_8',\n",
    "    batch_size=32,\n",
    "    train_ratio=0.8,\n",
    "    val_ratio=0.1\n",
    ")\n",
    "\n",
    "ye_net = YeNet().to(device)\n",
    "\n",
    "use_amp = hasattr(torch.cuda, 'amp')\n",
    "scaler = torch.amp.GradScaler('cuda') if use_amp else None\n",
    "\n",
    "lr = 0.01\n",
    "criterion = nn.BCEWithLogitsLoss()\n",
    "optimizer_ye = torch.optim.Adam(ye_net.parameters(), lr=lr)\n",
    "\n",
    "accumulation_steps = 4 "
   ]
  },
  {
   "cell_type": "code",
   "execution_count": null,
   "id": "be3e7189",
   "metadata": {},
   "outputs": [
    {
     "name": "stderr",
     "output_type": "stream",
     "text": [
      "Epoch 1/10 [Train]:   0%|          | 0/817 [00:00<?, ?it/s]"
     ]
    },
    {
     "name": "stderr",
     "output_type": "stream",
     "text": [
      "Epoch 1/10 [Train]: 100%|██████████| 817/817 [01:54<00:00,  7.12it/s, loss=0.604, acc=81.02%, mem=161.3MB]\n",
      "Epoch 1/10 [Valid]:   0%|          | 0/103 [00:00<?, ?it/s]/tmp/ipykernel_15365/1459737283.py:91: FutureWarning: `torch.cuda.amp.autocast(args...)` is deprecated. Please use `torch.amp.autocast('cuda', args...)` instead.\n",
      "  with torch.cuda.amp.autocast():\n",
      "Epoch 1/10 [Valid]: 100%|██████████| 103/103 [00:16<00:00,  6.20it/s, loss=0.5726, acc=88.18%]\n"
     ]
    },
    {
     "name": "stdout",
     "output_type": "stream",
     "text": [
      "Epoch 1/10 - Train Loss: 0.6038, Train Acc: 81.02%, Val Loss: 0.5670, Val Acc: 88.18%, Time: 131.59s\n",
      "Model saved to models/ye_net8.pth\n"
     ]
    },
    {
     "name": "stderr",
     "output_type": "stream",
     "text": [
      "Epoch 2/10 [Train]: 100%|██████████| 817/817 [02:07<00:00,  6.39it/s, loss=0.551, acc=91.29%, mem=161.3MB]\n",
      "Epoch 2/10 [Valid]: 100%|██████████| 103/103 [00:15<00:00,  6.49it/s, loss=nan, acc=81.02%]  \n"
     ]
    },
    {
     "name": "stdout",
     "output_type": "stream",
     "text": [
      "Epoch 2/10 - Train Loss: 0.5507, Train Acc: 91.29%, Val Loss: nan, Val Acc: 81.02%, Time: 144.03s\n"
     ]
    },
    {
     "name": "stderr",
     "output_type": "stream",
     "text": [
      "Epoch 3/10 [Train]: 100%|██████████| 817/817 [02:02<00:00,  6.69it/s, loss=0.541, acc=91.91%, mem=161.3MB]\n",
      "Epoch 3/10 [Valid]: 100%|██████████| 103/103 [00:15<00:00,  6.85it/s, loss=0.5168, acc=96.36%]\n"
     ]
    },
    {
     "name": "stdout",
     "output_type": "stream",
     "text": [
      "Epoch 3/10 - Train Loss: 0.5405, Train Acc: 91.91%, Val Loss: 0.5168, Val Acc: 96.36%, Time: 137.30s\n",
      "Model saved to models/ye_net8.pth\n"
     ]
    },
    {
     "name": "stderr",
     "output_type": "stream",
     "text": [
      "Epoch 4/10 [Train]: 100%|██████████| 817/817 [02:03<00:00,  6.61it/s, loss=nan, acc=92.23%, mem=161.3MB]  \n",
      "Epoch 4/10 [Valid]: 100%|██████████| 103/103 [00:16<00:00,  6.30it/s, loss=0.5414, acc=93.36%]\n"
     ]
    },
    {
     "name": "stdout",
     "output_type": "stream",
     "text": [
      "Epoch 4/10 - Train Loss: nan, Train Acc: 92.23%, Val Loss: 0.5362, Val Acc: 93.36%, Time: 140.48s\n"
     ]
    },
    {
     "name": "stderr",
     "output_type": "stream",
     "text": [
      "Epoch 5/10 [Train]:   4%|▍         | 34/817 [00:06<02:19,  5.61it/s, loss=nan, acc=90.35%, mem=173.3MB]  \n"
     ]
    },
    {
     "ename": "KeyboardInterrupt",
     "evalue": "",
     "output_type": "error",
     "traceback": [
      "\u001b[31m---------------------------------------------------------------------------\u001b[39m",
      "\u001b[31mKeyboardInterrupt\u001b[39m                         Traceback (most recent call last)",
      "\u001b[36mCell\u001b[39m\u001b[36m \u001b[39m\u001b[32mIn[12]\u001b[39m\u001b[32m, line 1\u001b[39m\n\u001b[32m----> \u001b[39m\u001b[32m1\u001b[39m ye_net = \u001b[43mtrain\u001b[49m\u001b[43m(\u001b[49m\n\u001b[32m      2\u001b[39m \u001b[43m    \u001b[49m\u001b[43mmodel\u001b[49m\u001b[43m=\u001b[49m\u001b[43mye_net\u001b[49m\u001b[43m,\u001b[49m\n\u001b[32m      3\u001b[39m \u001b[43m    \u001b[49m\u001b[43mtrain_loader\u001b[49m\u001b[43m=\u001b[49m\u001b[43mtrain_loader\u001b[49m\u001b[43m,\u001b[49m\n\u001b[32m      4\u001b[39m \u001b[43m    \u001b[49m\u001b[43mval_loader\u001b[49m\u001b[43m=\u001b[49m\u001b[43mval_loader\u001b[49m\u001b[43m,\u001b[49m\n\u001b[32m      5\u001b[39m \u001b[43m    \u001b[49m\u001b[43mcriterion\u001b[49m\u001b[43m=\u001b[49m\u001b[43mcriterion\u001b[49m\u001b[43m,\u001b[49m\n\u001b[32m      6\u001b[39m \u001b[43m    \u001b[49m\u001b[43moptimizer\u001b[49m\u001b[43m=\u001b[49m\u001b[43moptimizer_ye\u001b[49m\u001b[43m,\u001b[49m\n\u001b[32m      7\u001b[39m \u001b[43m    \u001b[49m\u001b[43mscheduler\u001b[49m\u001b[43m=\u001b[49m\u001b[43mtorch\u001b[49m\u001b[43m.\u001b[49m\u001b[43moptim\u001b[49m\u001b[43m.\u001b[49m\u001b[43mlr_scheduler\u001b[49m\u001b[43m.\u001b[49m\u001b[43mReduceLROnPlateau\u001b[49m\u001b[43m(\u001b[49m\u001b[43moptimizer_ye\u001b[49m\u001b[43m,\u001b[49m\u001b[43m \u001b[49m\u001b[33;43m'\u001b[39;49m\u001b[33;43mmin\u001b[39;49m\u001b[33;43m'\u001b[39;49m\u001b[43m,\u001b[49m\u001b[43m \u001b[49m\u001b[43mpatience\u001b[49m\u001b[43m=\u001b[49m\u001b[32;43m3\u001b[39;49m\u001b[43m,\u001b[49m\u001b[43m \u001b[49m\u001b[43mfactor\u001b[49m\u001b[43m=\u001b[49m\u001b[32;43m0.5\u001b[39;49m\u001b[43m)\u001b[49m\u001b[43m,\u001b[49m\n\u001b[32m      8\u001b[39m \u001b[43m    \u001b[49m\u001b[43mnum_epochs\u001b[49m\u001b[43m=\u001b[49m\u001b[32;43m10\u001b[39;49m\u001b[43m,\u001b[49m\n\u001b[32m      9\u001b[39m \u001b[43m    \u001b[49m\u001b[43mdevice\u001b[49m\u001b[43m=\u001b[49m\u001b[43mdevice\u001b[49m\u001b[43m,\u001b[49m\n\u001b[32m     10\u001b[39m \u001b[43m    \u001b[49m\u001b[43msave_path\u001b[49m\u001b[43m=\u001b[49m\u001b[33;43m'\u001b[39;49m\u001b[33;43mmodels/ye_net8.pth\u001b[39;49m\u001b[33;43m'\u001b[39;49m\u001b[43m,\u001b[49m\n\u001b[32m     11\u001b[39m \u001b[43m    \u001b[49m\u001b[43maccumulation_steps\u001b[49m\u001b[43m=\u001b[49m\u001b[43maccumulation_steps\u001b[49m\u001b[43m,\u001b[49m\n\u001b[32m     12\u001b[39m \u001b[43m    \u001b[49m\u001b[43muse_amp\u001b[49m\u001b[43m=\u001b[49m\u001b[43muse_amp\u001b[49m\u001b[43m,\u001b[49m\n\u001b[32m     13\u001b[39m \u001b[43m    \u001b[49m\u001b[43mscaler\u001b[49m\u001b[43m=\u001b[49m\u001b[43mscaler\u001b[49m\n\u001b[32m     14\u001b[39m \u001b[43m)\u001b[49m\n",
      "\u001b[36mCell\u001b[39m\u001b[36m \u001b[39m\u001b[32mIn[5]\u001b[39m\u001b[32m, line 39\u001b[39m, in \u001b[36mtrain\u001b[39m\u001b[34m(model, train_loader, val_loader, criterion, optimizer, scheduler, num_epochs, device, save_path, accumulation_steps, use_amp, scaler)\u001b[39m\n\u001b[32m     36\u001b[39m     loss = loss / accumulation_steps  \u001b[38;5;66;03m# Normalize loss\u001b[39;00m\n\u001b[32m     38\u001b[39m \u001b[38;5;66;03m# Scale the loss and backpropagate\u001b[39;00m\n\u001b[32m---> \u001b[39m\u001b[32m39\u001b[39m \u001b[43mscaler\u001b[49m\u001b[43m.\u001b[49m\u001b[43mscale\u001b[49m\u001b[43m(\u001b[49m\u001b[43mloss\u001b[49m\u001b[43m)\u001b[49m\u001b[43m.\u001b[49m\u001b[43mbackward\u001b[49m\u001b[43m(\u001b[49m\u001b[43m)\u001b[49m\n\u001b[32m     41\u001b[39m \u001b[38;5;28;01mif\u001b[39;00m (batch_idx + \u001b[32m1\u001b[39m) % accumulation_steps == \u001b[32m0\u001b[39m:\n\u001b[32m     42\u001b[39m     scaler.step(optimizer)\n",
      "\u001b[36mFile \u001b[39m\u001b[32m~/.miniconda3/envs/datasci/lib/python3.11/site-packages/torch/_tensor.py:648\u001b[39m, in \u001b[36mTensor.backward\u001b[39m\u001b[34m(self, gradient, retain_graph, create_graph, inputs)\u001b[39m\n\u001b[32m    638\u001b[39m \u001b[38;5;28;01mif\u001b[39;00m has_torch_function_unary(\u001b[38;5;28mself\u001b[39m):\n\u001b[32m    639\u001b[39m     \u001b[38;5;28;01mreturn\u001b[39;00m handle_torch_function(\n\u001b[32m    640\u001b[39m         Tensor.backward,\n\u001b[32m    641\u001b[39m         (\u001b[38;5;28mself\u001b[39m,),\n\u001b[32m   (...)\u001b[39m\u001b[32m    646\u001b[39m         inputs=inputs,\n\u001b[32m    647\u001b[39m     )\n\u001b[32m--> \u001b[39m\u001b[32m648\u001b[39m \u001b[43mtorch\u001b[49m\u001b[43m.\u001b[49m\u001b[43mautograd\u001b[49m\u001b[43m.\u001b[49m\u001b[43mbackward\u001b[49m\u001b[43m(\u001b[49m\n\u001b[32m    649\u001b[39m \u001b[43m    \u001b[49m\u001b[38;5;28;43mself\u001b[39;49m\u001b[43m,\u001b[49m\u001b[43m \u001b[49m\u001b[43mgradient\u001b[49m\u001b[43m,\u001b[49m\u001b[43m \u001b[49m\u001b[43mretain_graph\u001b[49m\u001b[43m,\u001b[49m\u001b[43m \u001b[49m\u001b[43mcreate_graph\u001b[49m\u001b[43m,\u001b[49m\u001b[43m \u001b[49m\u001b[43minputs\u001b[49m\u001b[43m=\u001b[49m\u001b[43minputs\u001b[49m\n\u001b[32m    650\u001b[39m \u001b[43m\u001b[49m\u001b[43m)\u001b[49m\n",
      "\u001b[36mFile \u001b[39m\u001b[32m~/.miniconda3/envs/datasci/lib/python3.11/site-packages/torch/autograd/__init__.py:353\u001b[39m, in \u001b[36mbackward\u001b[39m\u001b[34m(tensors, grad_tensors, retain_graph, create_graph, grad_variables, inputs)\u001b[39m\n\u001b[32m    348\u001b[39m     retain_graph = create_graph\n\u001b[32m    350\u001b[39m \u001b[38;5;66;03m# The reason we repeat the same comment below is that\u001b[39;00m\n\u001b[32m    351\u001b[39m \u001b[38;5;66;03m# some Python versions print out the first line of a multi-line function\u001b[39;00m\n\u001b[32m    352\u001b[39m \u001b[38;5;66;03m# calls in the traceback and some print out the last line\u001b[39;00m\n\u001b[32m--> \u001b[39m\u001b[32m353\u001b[39m \u001b[43m_engine_run_backward\u001b[49m\u001b[43m(\u001b[49m\n\u001b[32m    354\u001b[39m \u001b[43m    \u001b[49m\u001b[43mtensors\u001b[49m\u001b[43m,\u001b[49m\n\u001b[32m    355\u001b[39m \u001b[43m    \u001b[49m\u001b[43mgrad_tensors_\u001b[49m\u001b[43m,\u001b[49m\n\u001b[32m    356\u001b[39m \u001b[43m    \u001b[49m\u001b[43mretain_graph\u001b[49m\u001b[43m,\u001b[49m\n\u001b[32m    357\u001b[39m \u001b[43m    \u001b[49m\u001b[43mcreate_graph\u001b[49m\u001b[43m,\u001b[49m\n\u001b[32m    358\u001b[39m \u001b[43m    \u001b[49m\u001b[43minputs\u001b[49m\u001b[43m,\u001b[49m\n\u001b[32m    359\u001b[39m \u001b[43m    \u001b[49m\u001b[43mallow_unreachable\u001b[49m\u001b[43m=\u001b[49m\u001b[38;5;28;43;01mTrue\u001b[39;49;00m\u001b[43m,\u001b[49m\n\u001b[32m    360\u001b[39m \u001b[43m    \u001b[49m\u001b[43maccumulate_grad\u001b[49m\u001b[43m=\u001b[49m\u001b[38;5;28;43;01mTrue\u001b[39;49;00m\u001b[43m,\u001b[49m\n\u001b[32m    361\u001b[39m \u001b[43m\u001b[49m\u001b[43m)\u001b[49m\n",
      "\u001b[36mFile \u001b[39m\u001b[32m~/.miniconda3/envs/datasci/lib/python3.11/site-packages/torch/autograd/graph.py:824\u001b[39m, in \u001b[36m_engine_run_backward\u001b[39m\u001b[34m(t_outputs, *args, **kwargs)\u001b[39m\n\u001b[32m    822\u001b[39m     unregister_hooks = _register_logging_hooks_on_whole_graph(t_outputs)\n\u001b[32m    823\u001b[39m \u001b[38;5;28;01mtry\u001b[39;00m:\n\u001b[32m--> \u001b[39m\u001b[32m824\u001b[39m     \u001b[38;5;28;01mreturn\u001b[39;00m \u001b[43mVariable\u001b[49m\u001b[43m.\u001b[49m\u001b[43m_execution_engine\u001b[49m\u001b[43m.\u001b[49m\u001b[43mrun_backward\u001b[49m\u001b[43m(\u001b[49m\u001b[43m  \u001b[49m\u001b[38;5;66;43;03m# Calls into the C++ engine to run the backward pass\u001b[39;49;00m\n\u001b[32m    825\u001b[39m \u001b[43m        \u001b[49m\u001b[43mt_outputs\u001b[49m\u001b[43m,\u001b[49m\u001b[43m \u001b[49m\u001b[43m*\u001b[49m\u001b[43margs\u001b[49m\u001b[43m,\u001b[49m\u001b[43m \u001b[49m\u001b[43m*\u001b[49m\u001b[43m*\u001b[49m\u001b[43mkwargs\u001b[49m\n\u001b[32m    826\u001b[39m \u001b[43m    \u001b[49m\u001b[43m)\u001b[49m  \u001b[38;5;66;03m# Calls into the C++ engine to run the backward pass\u001b[39;00m\n\u001b[32m    827\u001b[39m \u001b[38;5;28;01mfinally\u001b[39;00m:\n\u001b[32m    828\u001b[39m     \u001b[38;5;28;01mif\u001b[39;00m attach_logging_hooks:\n",
      "\u001b[31mKeyboardInterrupt\u001b[39m: "
     ]
    }
   ],
   "source": [
    "ye_net = train(\n",
    "    model=ye_net,\n",
    "    train_loader=train_loader,\n",
    "    val_loader=val_loader,\n",
    "    criterion=criterion,\n",
    "    optimizer=optimizer_ye,\n",
    "    scheduler=torch.optim.lr_scheduler.ReduceLROnPlateau(optimizer_ye, 'min', patience=3, factor=0.5),\n",
    "    num_epochs=10,\n",
    "    device=device,\n",
    "    save_path='models/ye_net8.pth',\n",
    "    accumulation_steps=accumulation_steps,\n",
    "    use_amp=use_amp,\n",
    "    scaler=scaler\n",
    ")"
   ]
  },
  {
   "cell_type": "markdown",
   "id": "207bc118",
   "metadata": {},
   "source": [
    "# LSB 7 Train"
   ]
  },
  {
   "cell_type": "code",
   "execution_count": null,
   "id": "eb3b5b01",
   "metadata": {},
   "outputs": [],
   "source": [
    "train_loader, val_loader, test_loader = get_data_loaders(\n",
    "    dataset_dir='dataset_7',\n",
    "    batch_size=32,\n",
    "    train_ratio=0.8,\n",
    "    val_ratio=0.1\n",
    ")\n",
    "\n",
    "ye_net = YeNet().to(device)\n",
    "\n",
    "use_amp = hasattr(torch.cuda, 'amp')\n",
    "scaler = torch.amp.GradScaler('cuda') if use_amp else None\n",
    "\n",
    "lr = 0.001\n",
    "criterion = nn.BCEWithLogitsLoss()\n",
    "optimizer_ye = torch.optim.Adam(ye_net.parameters(), lr=lr)\n",
    "\n",
    "accumulation_steps = 4 "
   ]
  },
  {
   "cell_type": "code",
   "execution_count": null,
   "id": "b7d4751b",
   "metadata": {},
   "outputs": [
    {
     "name": "stderr",
     "output_type": "stream",
     "text": [
      "Epoch 1/10 [Train]: 100%|██████████| 817/817 [02:04<00:00,  6.56it/s, loss=0.519, acc=96.91%, mem=233.3MB]\n",
      "Epoch 1/10 [Valid]: 100%|██████████| 103/103 [00:16<00:00,  6.06it/s, loss=0.4987, acc=99.27%]\n"
     ]
    },
    {
     "name": "stdout",
     "output_type": "stream",
     "text": [
      "Epoch 1/10 - Train Loss: 0.5189, Train Acc: 96.91%, Val Loss: 0.4987, Val Acc: 99.27%, Time: 141.81s\n",
      "Model saved to models/ye_net7.pth\n"
     ]
    },
    {
     "name": "stderr",
     "output_type": "stream",
     "text": [
      "Epoch 2/10 [Train]: 100%|██████████| 817/817 [02:15<00:00,  6.05it/s, loss=0.506, acc=99.63%, mem=233.3MB]\n",
      "Epoch 2/10 [Valid]: 100%|██████████| 103/103 [00:16<00:00,  6.07it/s, loss=0.4975, acc=99.79%]\n"
     ]
    },
    {
     "name": "stdout",
     "output_type": "stream",
     "text": [
      "Epoch 2/10 - Train Loss: 0.5057, Train Acc: 99.63%, Val Loss: 0.4975, Val Acc: 99.79%, Time: 152.23s\n",
      "Model saved to models/ye_net7.pth\n"
     ]
    },
    {
     "name": "stderr",
     "output_type": "stream",
     "text": [
      "Epoch 3/10 [Train]: 100%|██████████| 817/817 [02:13<00:00,  6.12it/s, loss=0.506, acc=99.64%, mem=233.3MB]\n",
      "Epoch 3/10 [Valid]: 100%|██████████| 103/103 [00:16<00:00,  6.10it/s, loss=0.5028, acc=99.45%]\n"
     ]
    },
    {
     "name": "stdout",
     "output_type": "stream",
     "text": [
      "Epoch 3/10 - Train Loss: 0.5055, Train Acc: 99.64%, Val Loss: 0.4979, Val Acc: 99.45%, Time: 150.59s\n"
     ]
    },
    {
     "name": "stderr",
     "output_type": "stream",
     "text": [
      "Epoch 4/10 [Train]: 100%|██████████| 817/817 [02:17<00:00,  5.93it/s, loss=0.505, acc=99.74%, mem=233.3MB]\n",
      "Epoch 4/10 [Valid]: 100%|██████████| 103/103 [00:16<00:00,  6.14it/s, loss=0.4974, acc=99.72%]\n"
     ]
    },
    {
     "name": "stdout",
     "output_type": "stream",
     "text": [
      "Epoch 4/10 - Train Loss: 0.5051, Train Acc: 99.74%, Val Loss: 0.4974, Val Acc: 99.72%, Time: 154.66s\n",
      "Model saved to models/ye_net7.pth\n"
     ]
    },
    {
     "name": "stderr",
     "output_type": "stream",
     "text": [
      "Epoch 5/10 [Train]: 100%|██████████| 817/817 [02:12<00:00,  6.18it/s, loss=0.505, acc=99.77%, mem=233.3MB]\n",
      "Epoch 5/10 [Valid]: 100%|██████████| 103/103 [00:17<00:00,  5.94it/s, loss=0.4971, acc=99.69%]\n"
     ]
    },
    {
     "name": "stdout",
     "output_type": "stream",
     "text": [
      "Epoch 5/10 - Train Loss: 0.5049, Train Acc: 99.77%, Val Loss: 0.4971, Val Acc: 99.69%, Time: 149.68s\n",
      "Model saved to models/ye_net7.pth\n"
     ]
    },
    {
     "name": "stderr",
     "output_type": "stream",
     "text": [
      "Epoch 6/10 [Train]:   4%|▍         | 32/817 [00:06<02:29,  5.25it/s, loss=0.497, acc=99.80%, mem=240.7MB]\n"
     ]
    },
    {
     "ename": "KeyboardInterrupt",
     "evalue": "",
     "output_type": "error",
     "traceback": [
      "\u001b[31m---------------------------------------------------------------------------\u001b[39m",
      "\u001b[31mKeyboardInterrupt\u001b[39m                         Traceback (most recent call last)",
      "\u001b[36mCell\u001b[39m\u001b[36m \u001b[39m\u001b[32mIn[18]\u001b[39m\u001b[32m, line 1\u001b[39m\n\u001b[32m----> \u001b[39m\u001b[32m1\u001b[39m ye_net = \u001b[43mtrain\u001b[49m\u001b[43m(\u001b[49m\n\u001b[32m      2\u001b[39m \u001b[43m    \u001b[49m\u001b[43mmodel\u001b[49m\u001b[43m=\u001b[49m\u001b[43mye_net\u001b[49m\u001b[43m,\u001b[49m\n\u001b[32m      3\u001b[39m \u001b[43m    \u001b[49m\u001b[43mtrain_loader\u001b[49m\u001b[43m=\u001b[49m\u001b[43mtrain_loader\u001b[49m\u001b[43m,\u001b[49m\n\u001b[32m      4\u001b[39m \u001b[43m    \u001b[49m\u001b[43mval_loader\u001b[49m\u001b[43m=\u001b[49m\u001b[43mval_loader\u001b[49m\u001b[43m,\u001b[49m\n\u001b[32m      5\u001b[39m \u001b[43m    \u001b[49m\u001b[43mcriterion\u001b[49m\u001b[43m=\u001b[49m\u001b[43mcriterion\u001b[49m\u001b[43m,\u001b[49m\n\u001b[32m      6\u001b[39m \u001b[43m    \u001b[49m\u001b[43moptimizer\u001b[49m\u001b[43m=\u001b[49m\u001b[43moptimizer_ye\u001b[49m\u001b[43m,\u001b[49m\n\u001b[32m      7\u001b[39m \u001b[43m    \u001b[49m\u001b[43mscheduler\u001b[49m\u001b[43m=\u001b[49m\u001b[43mtorch\u001b[49m\u001b[43m.\u001b[49m\u001b[43moptim\u001b[49m\u001b[43m.\u001b[49m\u001b[43mlr_scheduler\u001b[49m\u001b[43m.\u001b[49m\u001b[43mReduceLROnPlateau\u001b[49m\u001b[43m(\u001b[49m\u001b[43moptimizer_ye\u001b[49m\u001b[43m,\u001b[49m\u001b[43m \u001b[49m\u001b[33;43m'\u001b[39;49m\u001b[33;43mmin\u001b[39;49m\u001b[33;43m'\u001b[39;49m\u001b[43m,\u001b[49m\u001b[43m \u001b[49m\u001b[43mpatience\u001b[49m\u001b[43m=\u001b[49m\u001b[32;43m3\u001b[39;49m\u001b[43m,\u001b[49m\u001b[43m \u001b[49m\u001b[43mfactor\u001b[49m\u001b[43m=\u001b[49m\u001b[32;43m0.5\u001b[39;49m\u001b[43m)\u001b[49m\u001b[43m,\u001b[49m\n\u001b[32m      8\u001b[39m \u001b[43m    \u001b[49m\u001b[43mnum_epochs\u001b[49m\u001b[43m=\u001b[49m\u001b[32;43m10\u001b[39;49m\u001b[43m,\u001b[49m\n\u001b[32m      9\u001b[39m \u001b[43m    \u001b[49m\u001b[43mdevice\u001b[49m\u001b[43m=\u001b[49m\u001b[43mdevice\u001b[49m\u001b[43m,\u001b[49m\n\u001b[32m     10\u001b[39m \u001b[43m    \u001b[49m\u001b[43msave_path\u001b[49m\u001b[43m=\u001b[49m\u001b[33;43m'\u001b[39;49m\u001b[33;43mmodels/ye_net7.pth\u001b[39;49m\u001b[33;43m'\u001b[39;49m\u001b[43m,\u001b[49m\n\u001b[32m     11\u001b[39m \u001b[43m    \u001b[49m\u001b[43maccumulation_steps\u001b[49m\u001b[43m=\u001b[49m\u001b[43maccumulation_steps\u001b[49m\u001b[43m,\u001b[49m\n\u001b[32m     12\u001b[39m \u001b[43m    \u001b[49m\u001b[43muse_amp\u001b[49m\u001b[43m=\u001b[49m\u001b[43muse_amp\u001b[49m\u001b[43m,\u001b[49m\n\u001b[32m     13\u001b[39m \u001b[43m    \u001b[49m\u001b[43mscaler\u001b[49m\u001b[43m=\u001b[49m\u001b[43mscaler\u001b[49m\n\u001b[32m     14\u001b[39m \u001b[43m)\u001b[49m\n",
      "\u001b[36mCell\u001b[39m\u001b[36m \u001b[39m\u001b[32mIn[13]\u001b[39m\u001b[32m, line 27\u001b[39m, in \u001b[36mtrain\u001b[39m\u001b[34m(model, train_loader, val_loader, criterion, optimizer, scheduler, num_epochs, device, save_path, accumulation_steps, use_amp, scaler)\u001b[39m\n\u001b[32m     24\u001b[39m \u001b[38;5;66;03m# Create progress bar for training\u001b[39;00m\n\u001b[32m     25\u001b[39m train_pbar = tqdm(train_loader, desc=\u001b[33mf\u001b[39m\u001b[33m'\u001b[39m\u001b[33mEpoch \u001b[39m\u001b[38;5;132;01m{\u001b[39;00mepoch+\u001b[32m1\u001b[39m\u001b[38;5;132;01m}\u001b[39;00m\u001b[33m/\u001b[39m\u001b[38;5;132;01m{\u001b[39;00mnum_epochs\u001b[38;5;132;01m}\u001b[39;00m\u001b[33m [Train]\u001b[39m\u001b[33m'\u001b[39m)\n\u001b[32m---> \u001b[39m\u001b[32m27\u001b[39m \u001b[43m\u001b[49m\u001b[38;5;28;43;01mfor\u001b[39;49;00m\u001b[43m \u001b[49m\u001b[43mbatch_idx\u001b[49m\u001b[43m,\u001b[49m\u001b[43m \u001b[49m\u001b[43m(\u001b[49m\u001b[43minputs\u001b[49m\u001b[43m,\u001b[49m\u001b[43m \u001b[49m\u001b[43mlabels\u001b[49m\u001b[43m)\u001b[49m\u001b[43m \u001b[49m\u001b[38;5;129;43;01min\u001b[39;49;00m\u001b[43m \u001b[49m\u001b[38;5;28;43menumerate\u001b[39;49m\u001b[43m(\u001b[49m\u001b[43mtrain_pbar\u001b[49m\u001b[43m)\u001b[49m\u001b[43m:\u001b[49m\n\u001b[32m     28\u001b[39m \u001b[43m    \u001b[49m\u001b[43minputs\u001b[49m\u001b[43m \u001b[49m\u001b[43m=\u001b[49m\u001b[43m \u001b[49m\u001b[43minputs\u001b[49m\u001b[43m.\u001b[49m\u001b[43mto\u001b[49m\u001b[43m(\u001b[49m\u001b[43mdevice\u001b[49m\u001b[43m,\u001b[49m\u001b[43m \u001b[49m\u001b[43mnon_blocking\u001b[49m\u001b[43m=\u001b[49m\u001b[38;5;28;43;01mTrue\u001b[39;49;00m\u001b[43m)\u001b[49m\u001b[43m  \u001b[49m\u001b[38;5;66;43;03m# Use non_blocking for potential speed-up\u001b[39;49;00m\n\u001b[32m     29\u001b[39m \u001b[43m    \u001b[49m\u001b[43mlabels\u001b[49m\u001b[43m \u001b[49m\u001b[43m=\u001b[49m\u001b[43m \u001b[49m\u001b[43mlabels\u001b[49m\u001b[43m.\u001b[49m\u001b[43mto\u001b[49m\u001b[43m(\u001b[49m\u001b[43mdevice\u001b[49m\u001b[43m,\u001b[49m\u001b[43m \u001b[49m\u001b[43mnon_blocking\u001b[49m\u001b[43m=\u001b[49m\u001b[38;5;28;43;01mTrue\u001b[39;49;00m\u001b[43m)\u001b[49m\n",
      "\u001b[36mFile \u001b[39m\u001b[32m~/.miniconda3/envs/datasci/lib/python3.11/site-packages/tqdm/std.py:1181\u001b[39m, in \u001b[36mtqdm.__iter__\u001b[39m\u001b[34m(self)\u001b[39m\n\u001b[32m   1178\u001b[39m time = \u001b[38;5;28mself\u001b[39m._time\n\u001b[32m   1180\u001b[39m \u001b[38;5;28;01mtry\u001b[39;00m:\n\u001b[32m-> \u001b[39m\u001b[32m1181\u001b[39m \u001b[43m    \u001b[49m\u001b[38;5;28;43;01mfor\u001b[39;49;00m\u001b[43m \u001b[49m\u001b[43mobj\u001b[49m\u001b[43m \u001b[49m\u001b[38;5;129;43;01min\u001b[39;49;00m\u001b[43m \u001b[49m\u001b[43miterable\u001b[49m\u001b[43m:\u001b[49m\n\u001b[32m   1182\u001b[39m \u001b[43m        \u001b[49m\u001b[38;5;28;43;01myield\u001b[39;49;00m\u001b[43m \u001b[49m\u001b[43mobj\u001b[49m\n\u001b[32m   1183\u001b[39m \u001b[43m        \u001b[49m\u001b[38;5;66;43;03m# Update and possibly print the progressbar.\u001b[39;49;00m\n\u001b[32m   1184\u001b[39m \u001b[43m        \u001b[49m\u001b[38;5;66;43;03m# Note: does not call self.update(1) for speed optimisation.\u001b[39;49;00m\n",
      "\u001b[36mFile \u001b[39m\u001b[32m~/.miniconda3/envs/datasci/lib/python3.11/site-packages/torch/utils/data/dataloader.py:733\u001b[39m, in \u001b[36m_BaseDataLoaderIter.__next__\u001b[39m\u001b[34m(self)\u001b[39m\n\u001b[32m    730\u001b[39m \u001b[38;5;28;01mif\u001b[39;00m \u001b[38;5;28mself\u001b[39m._sampler_iter \u001b[38;5;129;01mis\u001b[39;00m \u001b[38;5;28;01mNone\u001b[39;00m:\n\u001b[32m    731\u001b[39m     \u001b[38;5;66;03m# TODO(https://github.com/pytorch/pytorch/issues/76750)\u001b[39;00m\n\u001b[32m    732\u001b[39m     \u001b[38;5;28mself\u001b[39m._reset()  \u001b[38;5;66;03m# type: ignore[call-arg]\u001b[39;00m\n\u001b[32m--> \u001b[39m\u001b[32m733\u001b[39m data = \u001b[38;5;28;43mself\u001b[39;49m\u001b[43m.\u001b[49m\u001b[43m_next_data\u001b[49m\u001b[43m(\u001b[49m\u001b[43m)\u001b[49m\n\u001b[32m    734\u001b[39m \u001b[38;5;28mself\u001b[39m._num_yielded += \u001b[32m1\u001b[39m\n\u001b[32m    735\u001b[39m \u001b[38;5;28;01mif\u001b[39;00m (\n\u001b[32m    736\u001b[39m     \u001b[38;5;28mself\u001b[39m._dataset_kind == _DatasetKind.Iterable\n\u001b[32m    737\u001b[39m     \u001b[38;5;129;01mand\u001b[39;00m \u001b[38;5;28mself\u001b[39m._IterableDataset_len_called \u001b[38;5;129;01mis\u001b[39;00m \u001b[38;5;129;01mnot\u001b[39;00m \u001b[38;5;28;01mNone\u001b[39;00m\n\u001b[32m    738\u001b[39m     \u001b[38;5;129;01mand\u001b[39;00m \u001b[38;5;28mself\u001b[39m._num_yielded > \u001b[38;5;28mself\u001b[39m._IterableDataset_len_called\n\u001b[32m    739\u001b[39m ):\n",
      "\u001b[36mFile \u001b[39m\u001b[32m~/.miniconda3/envs/datasci/lib/python3.11/site-packages/torch/utils/data/dataloader.py:1491\u001b[39m, in \u001b[36m_MultiProcessingDataLoaderIter._next_data\u001b[39m\u001b[34m(self)\u001b[39m\n\u001b[32m   1488\u001b[39m     \u001b[38;5;28;01mreturn\u001b[39;00m \u001b[38;5;28mself\u001b[39m._process_data(data, worker_id)\n\u001b[32m   1490\u001b[39m \u001b[38;5;28;01massert\u001b[39;00m \u001b[38;5;129;01mnot\u001b[39;00m \u001b[38;5;28mself\u001b[39m._shutdown \u001b[38;5;129;01mand\u001b[39;00m \u001b[38;5;28mself\u001b[39m._tasks_outstanding > \u001b[32m0\u001b[39m\n\u001b[32m-> \u001b[39m\u001b[32m1491\u001b[39m idx, data = \u001b[38;5;28;43mself\u001b[39;49m\u001b[43m.\u001b[49m\u001b[43m_get_data\u001b[49m\u001b[43m(\u001b[49m\u001b[43m)\u001b[49m\n\u001b[32m   1492\u001b[39m \u001b[38;5;28mself\u001b[39m._tasks_outstanding -= \u001b[32m1\u001b[39m\n\u001b[32m   1493\u001b[39m \u001b[38;5;28;01mif\u001b[39;00m \u001b[38;5;28mself\u001b[39m._dataset_kind == _DatasetKind.Iterable:\n\u001b[32m   1494\u001b[39m     \u001b[38;5;66;03m# Check for _IterableDatasetStopIteration\u001b[39;00m\n",
      "\u001b[36mFile \u001b[39m\u001b[32m~/.miniconda3/envs/datasci/lib/python3.11/site-packages/torch/utils/data/dataloader.py:1453\u001b[39m, in \u001b[36m_MultiProcessingDataLoaderIter._get_data\u001b[39m\u001b[34m(self)\u001b[39m\n\u001b[32m   1449\u001b[39m     \u001b[38;5;66;03m# In this case, `self._data_queue` is a `queue.Queue`,. But we don't\u001b[39;00m\n\u001b[32m   1450\u001b[39m     \u001b[38;5;66;03m# need to call `.task_done()` because we don't use `.join()`.\u001b[39;00m\n\u001b[32m   1451\u001b[39m \u001b[38;5;28;01melse\u001b[39;00m:\n\u001b[32m   1452\u001b[39m     \u001b[38;5;28;01mwhile\u001b[39;00m \u001b[38;5;28;01mTrue\u001b[39;00m:\n\u001b[32m-> \u001b[39m\u001b[32m1453\u001b[39m         success, data = \u001b[38;5;28;43mself\u001b[39;49m\u001b[43m.\u001b[49m\u001b[43m_try_get_data\u001b[49m\u001b[43m(\u001b[49m\u001b[43m)\u001b[49m\n\u001b[32m   1454\u001b[39m         \u001b[38;5;28;01mif\u001b[39;00m success:\n\u001b[32m   1455\u001b[39m             \u001b[38;5;28;01mreturn\u001b[39;00m data\n",
      "\u001b[36mFile \u001b[39m\u001b[32m~/.miniconda3/envs/datasci/lib/python3.11/site-packages/torch/utils/data/dataloader.py:1284\u001b[39m, in \u001b[36m_MultiProcessingDataLoaderIter._try_get_data\u001b[39m\u001b[34m(self, timeout)\u001b[39m\n\u001b[32m   1271\u001b[39m \u001b[38;5;28;01mdef\u001b[39;00m\u001b[38;5;250m \u001b[39m\u001b[34m_try_get_data\u001b[39m(\u001b[38;5;28mself\u001b[39m, timeout=_utils.MP_STATUS_CHECK_INTERVAL):\n\u001b[32m   1272\u001b[39m     \u001b[38;5;66;03m# Tries to fetch data from `self._data_queue` once for a given timeout.\u001b[39;00m\n\u001b[32m   1273\u001b[39m     \u001b[38;5;66;03m# This can also be used as inner loop of fetching without timeout, with\u001b[39;00m\n\u001b[32m   (...)\u001b[39m\u001b[32m   1281\u001b[39m     \u001b[38;5;66;03m# Returns a 2-tuple:\u001b[39;00m\n\u001b[32m   1282\u001b[39m     \u001b[38;5;66;03m#   (bool: whether successfully get data, any: data if successful else None)\u001b[39;00m\n\u001b[32m   1283\u001b[39m     \u001b[38;5;28;01mtry\u001b[39;00m:\n\u001b[32m-> \u001b[39m\u001b[32m1284\u001b[39m         data = \u001b[38;5;28;43mself\u001b[39;49m\u001b[43m.\u001b[49m\u001b[43m_data_queue\u001b[49m\u001b[43m.\u001b[49m\u001b[43mget\u001b[49m\u001b[43m(\u001b[49m\u001b[43mtimeout\u001b[49m\u001b[43m=\u001b[49m\u001b[43mtimeout\u001b[49m\u001b[43m)\u001b[49m\n\u001b[32m   1285\u001b[39m         \u001b[38;5;28;01mreturn\u001b[39;00m (\u001b[38;5;28;01mTrue\u001b[39;00m, data)\n\u001b[32m   1286\u001b[39m     \u001b[38;5;28;01mexcept\u001b[39;00m \u001b[38;5;167;01mException\u001b[39;00m \u001b[38;5;28;01mas\u001b[39;00m e:\n\u001b[32m   1287\u001b[39m         \u001b[38;5;66;03m# At timeout and error, we manually check whether any worker has\u001b[39;00m\n\u001b[32m   1288\u001b[39m         \u001b[38;5;66;03m# failed. Note that this is the only mechanism for Windows to detect\u001b[39;00m\n\u001b[32m   1289\u001b[39m         \u001b[38;5;66;03m# worker failures.\u001b[39;00m\n",
      "\u001b[36mFile \u001b[39m\u001b[32m~/.miniconda3/envs/datasci/lib/python3.11/multiprocessing/queues.py:113\u001b[39m, in \u001b[36mQueue.get\u001b[39m\u001b[34m(self, block, timeout)\u001b[39m\n\u001b[32m    111\u001b[39m \u001b[38;5;28;01mif\u001b[39;00m block:\n\u001b[32m    112\u001b[39m     timeout = deadline - time.monotonic()\n\u001b[32m--> \u001b[39m\u001b[32m113\u001b[39m     \u001b[38;5;28;01mif\u001b[39;00m \u001b[38;5;129;01mnot\u001b[39;00m \u001b[38;5;28;43mself\u001b[39;49m\u001b[43m.\u001b[49m\u001b[43m_poll\u001b[49m\u001b[43m(\u001b[49m\u001b[43mtimeout\u001b[49m\u001b[43m)\u001b[49m:\n\u001b[32m    114\u001b[39m         \u001b[38;5;28;01mraise\u001b[39;00m Empty\n\u001b[32m    115\u001b[39m \u001b[38;5;28;01melif\u001b[39;00m \u001b[38;5;129;01mnot\u001b[39;00m \u001b[38;5;28mself\u001b[39m._poll():\n",
      "\u001b[36mFile \u001b[39m\u001b[32m~/.miniconda3/envs/datasci/lib/python3.11/multiprocessing/connection.py:257\u001b[39m, in \u001b[36m_ConnectionBase.poll\u001b[39m\u001b[34m(self, timeout)\u001b[39m\n\u001b[32m    255\u001b[39m \u001b[38;5;28mself\u001b[39m._check_closed()\n\u001b[32m    256\u001b[39m \u001b[38;5;28mself\u001b[39m._check_readable()\n\u001b[32m--> \u001b[39m\u001b[32m257\u001b[39m \u001b[38;5;28;01mreturn\u001b[39;00m \u001b[38;5;28;43mself\u001b[39;49m\u001b[43m.\u001b[49m\u001b[43m_poll\u001b[49m\u001b[43m(\u001b[49m\u001b[43mtimeout\u001b[49m\u001b[43m)\u001b[49m\n",
      "\u001b[36mFile \u001b[39m\u001b[32m~/.miniconda3/envs/datasci/lib/python3.11/multiprocessing/connection.py:440\u001b[39m, in \u001b[36mConnection._poll\u001b[39m\u001b[34m(self, timeout)\u001b[39m\n\u001b[32m    439\u001b[39m \u001b[38;5;28;01mdef\u001b[39;00m\u001b[38;5;250m \u001b[39m\u001b[34m_poll\u001b[39m(\u001b[38;5;28mself\u001b[39m, timeout):\n\u001b[32m--> \u001b[39m\u001b[32m440\u001b[39m     r = \u001b[43mwait\u001b[49m\u001b[43m(\u001b[49m\u001b[43m[\u001b[49m\u001b[38;5;28;43mself\u001b[39;49m\u001b[43m]\u001b[49m\u001b[43m,\u001b[49m\u001b[43m \u001b[49m\u001b[43mtimeout\u001b[49m\u001b[43m)\u001b[49m\n\u001b[32m    441\u001b[39m     \u001b[38;5;28;01mreturn\u001b[39;00m \u001b[38;5;28mbool\u001b[39m(r)\n",
      "\u001b[36mFile \u001b[39m\u001b[32m~/.miniconda3/envs/datasci/lib/python3.11/multiprocessing/connection.py:948\u001b[39m, in \u001b[36mwait\u001b[39m\u001b[34m(object_list, timeout)\u001b[39m\n\u001b[32m    945\u001b[39m     deadline = time.monotonic() + timeout\n\u001b[32m    947\u001b[39m \u001b[38;5;28;01mwhile\u001b[39;00m \u001b[38;5;28;01mTrue\u001b[39;00m:\n\u001b[32m--> \u001b[39m\u001b[32m948\u001b[39m     ready = \u001b[43mselector\u001b[49m\u001b[43m.\u001b[49m\u001b[43mselect\u001b[49m\u001b[43m(\u001b[49m\u001b[43mtimeout\u001b[49m\u001b[43m)\u001b[49m\n\u001b[32m    949\u001b[39m     \u001b[38;5;28;01mif\u001b[39;00m ready:\n\u001b[32m    950\u001b[39m         \u001b[38;5;28;01mreturn\u001b[39;00m [key.fileobj \u001b[38;5;28;01mfor\u001b[39;00m (key, events) \u001b[38;5;129;01min\u001b[39;00m ready]\n",
      "\u001b[36mFile \u001b[39m\u001b[32m~/.miniconda3/envs/datasci/lib/python3.11/selectors.py:415\u001b[39m, in \u001b[36m_PollLikeSelector.select\u001b[39m\u001b[34m(self, timeout)\u001b[39m\n\u001b[32m    413\u001b[39m ready = []\n\u001b[32m    414\u001b[39m \u001b[38;5;28;01mtry\u001b[39;00m:\n\u001b[32m--> \u001b[39m\u001b[32m415\u001b[39m     fd_event_list = \u001b[38;5;28mself\u001b[39m._selector.poll(timeout)\n\u001b[32m    416\u001b[39m \u001b[38;5;28;01mexcept\u001b[39;00m \u001b[38;5;167;01mInterruptedError\u001b[39;00m:\n\u001b[32m    417\u001b[39m     \u001b[38;5;28;01mreturn\u001b[39;00m ready\n",
      "\u001b[31mKeyboardInterrupt\u001b[39m: "
     ]
    }
   ],
   "source": [
    "ye_net = train(\n",
    "    model=ye_net,\n",
    "    train_loader=train_loader,\n",
    "    val_loader=val_loader,\n",
    "    criterion=criterion,\n",
    "    optimizer=optimizer_ye,\n",
    "    scheduler=torch.optim.lr_scheduler.ReduceLROnPlateau(optimizer_ye, 'min', patience=3, factor=0.5),\n",
    "    num_epochs=10,\n",
    "    device=device,\n",
    "    save_path='models/ye_net7.pth',\n",
    "    accumulation_steps=accumulation_steps,\n",
    "    use_amp=use_amp,\n",
    "    scaler=scaler\n",
    ")"
   ]
  },
  {
   "cell_type": "markdown",
   "id": "7e268c86",
   "metadata": {},
   "source": [
    "# LSB 6 Train"
   ]
  },
  {
   "cell_type": "code",
   "execution_count": 19,
   "id": "8ec77263",
   "metadata": {},
   "outputs": [],
   "source": [
    "train_loader, val_loader, test_loader = get_data_loaders(\n",
    "    dataset_dir='dataset_6',\n",
    "    batch_size=32,\n",
    "    train_ratio=0.8,\n",
    "    val_ratio=0.1\n",
    ")\n",
    "\n",
    "ye_net = YeNet().to(device)\n",
    "\n",
    "use_amp = hasattr(torch.cuda, 'amp')\n",
    "scaler = torch.amp.GradScaler('cuda') if use_amp else None\n",
    "\n",
    "lr = 0.001\n",
    "criterion = nn.BCEWithLogitsLoss()\n",
    "optimizer_ye = torch.optim.Adam(ye_net.parameters(), lr=lr)\n",
    "\n",
    "accumulation_steps = 4 "
   ]
  },
  {
   "cell_type": "code",
   "execution_count": 20,
   "id": "e618d557",
   "metadata": {},
   "outputs": [
    {
     "name": "stderr",
     "output_type": "stream",
     "text": [
      "Epoch 1/10 [Train]: 100%|██████████| 817/817 [02:06<00:00,  6.48it/s, loss=0.694, acc=50.17%, mem=132.7MB]\n",
      "Epoch 1/10 [Valid]: 100%|██████████| 103/103 [00:16<00:00,  6.32it/s, loss=0.6999, acc=48.18%]\n"
     ]
    },
    {
     "name": "stdout",
     "output_type": "stream",
     "text": [
      "Epoch 1/10 - Train Loss: 0.6936, Train Acc: 50.17%, Val Loss: 0.6931, Val Acc: 48.18%, Time: 142.60s\n",
      "Model saved to models/ye_net6.pth\n"
     ]
    },
    {
     "name": "stderr",
     "output_type": "stream",
     "text": [
      "Epoch 2/10 [Train]: 100%|██████████| 817/817 [02:04<00:00,  6.54it/s, loss=0.693, acc=50.19%, mem=132.7MB]\n",
      "Epoch 2/10 [Valid]: 100%|██████████| 103/103 [00:15<00:00,  6.81it/s, loss=0.6999, acc=48.18%]\n"
     ]
    },
    {
     "name": "stdout",
     "output_type": "stream",
     "text": [
      "Epoch 2/10 - Train Loss: 0.6931, Train Acc: 50.19%, Val Loss: 0.6931, Val Acc: 48.18%, Time: 140.16s\n"
     ]
    },
    {
     "name": "stderr",
     "output_type": "stream",
     "text": [
      "Epoch 3/10 [Train]: 100%|██████████| 817/817 [01:52<00:00,  7.29it/s, loss=0.693, acc=50.19%, mem=132.7MB]\n",
      "Epoch 3/10 [Valid]: 100%|██████████| 103/103 [00:16<00:00,  6.17it/s, loss=0.6999, acc=48.18%]\n"
     ]
    },
    {
     "name": "stdout",
     "output_type": "stream",
     "text": [
      "Epoch 3/10 - Train Loss: 0.6932, Train Acc: 50.19%, Val Loss: 0.6931, Val Acc: 48.18%, Time: 128.92s\n"
     ]
    },
    {
     "name": "stderr",
     "output_type": "stream",
     "text": [
      "Epoch 4/10 [Train]:   5%|▍         | 40/817 [00:08<02:42,  4.77it/s, loss=0.693, acc=51.17%, mem=140.1MB]\n"
     ]
    },
    {
     "ename": "KeyboardInterrupt",
     "evalue": "",
     "output_type": "error",
     "traceback": [
      "\u001b[31m---------------------------------------------------------------------------\u001b[39m",
      "\u001b[31mKeyboardInterrupt\u001b[39m                         Traceback (most recent call last)",
      "\u001b[36mCell\u001b[39m\u001b[36m \u001b[39m\u001b[32mIn[20]\u001b[39m\u001b[32m, line 1\u001b[39m\n\u001b[32m----> \u001b[39m\u001b[32m1\u001b[39m ye_net = \u001b[43mtrain\u001b[49m\u001b[43m(\u001b[49m\n\u001b[32m      2\u001b[39m \u001b[43m    \u001b[49m\u001b[43mmodel\u001b[49m\u001b[43m=\u001b[49m\u001b[43mye_net\u001b[49m\u001b[43m,\u001b[49m\n\u001b[32m      3\u001b[39m \u001b[43m    \u001b[49m\u001b[43mtrain_loader\u001b[49m\u001b[43m=\u001b[49m\u001b[43mtrain_loader\u001b[49m\u001b[43m,\u001b[49m\n\u001b[32m      4\u001b[39m \u001b[43m    \u001b[49m\u001b[43mval_loader\u001b[49m\u001b[43m=\u001b[49m\u001b[43mval_loader\u001b[49m\u001b[43m,\u001b[49m\n\u001b[32m      5\u001b[39m \u001b[43m    \u001b[49m\u001b[43mcriterion\u001b[49m\u001b[43m=\u001b[49m\u001b[43mcriterion\u001b[49m\u001b[43m,\u001b[49m\n\u001b[32m      6\u001b[39m \u001b[43m    \u001b[49m\u001b[43moptimizer\u001b[49m\u001b[43m=\u001b[49m\u001b[43moptimizer_ye\u001b[49m\u001b[43m,\u001b[49m\n\u001b[32m      7\u001b[39m \u001b[43m    \u001b[49m\u001b[43mscheduler\u001b[49m\u001b[43m=\u001b[49m\u001b[43mtorch\u001b[49m\u001b[43m.\u001b[49m\u001b[43moptim\u001b[49m\u001b[43m.\u001b[49m\u001b[43mlr_scheduler\u001b[49m\u001b[43m.\u001b[49m\u001b[43mReduceLROnPlateau\u001b[49m\u001b[43m(\u001b[49m\u001b[43moptimizer_ye\u001b[49m\u001b[43m,\u001b[49m\u001b[43m \u001b[49m\u001b[33;43m'\u001b[39;49m\u001b[33;43mmin\u001b[39;49m\u001b[33;43m'\u001b[39;49m\u001b[43m,\u001b[49m\u001b[43m \u001b[49m\u001b[43mpatience\u001b[49m\u001b[43m=\u001b[49m\u001b[32;43m3\u001b[39;49m\u001b[43m,\u001b[49m\u001b[43m \u001b[49m\u001b[43mfactor\u001b[49m\u001b[43m=\u001b[49m\u001b[32;43m0.5\u001b[39;49m\u001b[43m)\u001b[49m\u001b[43m,\u001b[49m\n\u001b[32m      8\u001b[39m \u001b[43m    \u001b[49m\u001b[43mnum_epochs\u001b[49m\u001b[43m=\u001b[49m\u001b[32;43m10\u001b[39;49m\u001b[43m,\u001b[49m\n\u001b[32m      9\u001b[39m \u001b[43m    \u001b[49m\u001b[43mdevice\u001b[49m\u001b[43m=\u001b[49m\u001b[43mdevice\u001b[49m\u001b[43m,\u001b[49m\n\u001b[32m     10\u001b[39m \u001b[43m    \u001b[49m\u001b[43msave_path\u001b[49m\u001b[43m=\u001b[49m\u001b[33;43m'\u001b[39;49m\u001b[33;43mmodels/ye_net6.pth\u001b[39;49m\u001b[33;43m'\u001b[39;49m\u001b[43m,\u001b[49m\n\u001b[32m     11\u001b[39m \u001b[43m    \u001b[49m\u001b[43maccumulation_steps\u001b[49m\u001b[43m=\u001b[49m\u001b[43maccumulation_steps\u001b[49m\u001b[43m,\u001b[49m\n\u001b[32m     12\u001b[39m \u001b[43m    \u001b[49m\u001b[43muse_amp\u001b[49m\u001b[43m=\u001b[49m\u001b[43muse_amp\u001b[49m\u001b[43m,\u001b[49m\n\u001b[32m     13\u001b[39m \u001b[43m    \u001b[49m\u001b[43mscaler\u001b[49m\u001b[43m=\u001b[49m\u001b[43mscaler\u001b[49m\n\u001b[32m     14\u001b[39m \u001b[43m)\u001b[49m\n",
      "\u001b[36mCell\u001b[39m\u001b[36m \u001b[39m\u001b[32mIn[13]\u001b[39m\u001b[32m, line 28\u001b[39m, in \u001b[36mtrain\u001b[39m\u001b[34m(model, train_loader, val_loader, criterion, optimizer, scheduler, num_epochs, device, save_path, accumulation_steps, use_amp, scaler)\u001b[39m\n\u001b[32m     25\u001b[39m train_pbar = tqdm(train_loader, desc=\u001b[33mf\u001b[39m\u001b[33m'\u001b[39m\u001b[33mEpoch \u001b[39m\u001b[38;5;132;01m{\u001b[39;00mepoch+\u001b[32m1\u001b[39m\u001b[38;5;132;01m}\u001b[39;00m\u001b[33m/\u001b[39m\u001b[38;5;132;01m{\u001b[39;00mnum_epochs\u001b[38;5;132;01m}\u001b[39;00m\u001b[33m [Train]\u001b[39m\u001b[33m'\u001b[39m)\n\u001b[32m     27\u001b[39m \u001b[38;5;28;01mfor\u001b[39;00m batch_idx, (inputs, labels) \u001b[38;5;129;01min\u001b[39;00m \u001b[38;5;28menumerate\u001b[39m(train_pbar):\n\u001b[32m---> \u001b[39m\u001b[32m28\u001b[39m     inputs = \u001b[43minputs\u001b[49m\u001b[43m.\u001b[49m\u001b[43mto\u001b[49m\u001b[43m(\u001b[49m\u001b[43mdevice\u001b[49m\u001b[43m,\u001b[49m\u001b[43m \u001b[49m\u001b[43mnon_blocking\u001b[49m\u001b[43m=\u001b[49m\u001b[38;5;28;43;01mTrue\u001b[39;49;00m\u001b[43m)\u001b[49m  \u001b[38;5;66;03m# Use non_blocking for potential speed-up\u001b[39;00m\n\u001b[32m     29\u001b[39m     labels = labels.to(device, non_blocking=\u001b[38;5;28;01mTrue\u001b[39;00m)\n\u001b[32m     31\u001b[39m     \u001b[38;5;66;03m# Use AMP if available\u001b[39;00m\n",
      "\u001b[31mKeyboardInterrupt\u001b[39m: "
     ]
    }
   ],
   "source": [
    "ye_net = train(\n",
    "    model=ye_net,\n",
    "    train_loader=train_loader,\n",
    "    val_loader=val_loader,\n",
    "    criterion=criterion,\n",
    "    optimizer=optimizer_ye,\n",
    "    scheduler=torch.optim.lr_scheduler.ReduceLROnPlateau(optimizer_ye, 'min', patience=3, factor=0.5),\n",
    "    num_epochs=10,\n",
    "    device=device,\n",
    "    save_path='models/ye_net6.pth',\n",
    "    accumulation_steps=accumulation_steps,\n",
    "    use_amp=use_amp,\n",
    "    scaler=scaler\n",
    ")"
   ]
  },
  {
   "cell_type": "code",
   "execution_count": null,
   "id": "d2f04edd",
   "metadata": {},
   "outputs": [],
   "source": []
  },
  {
   "cell_type": "markdown",
   "id": "f83cd620",
   "metadata": {},
   "source": [
    "# LSB 6 SRNET"
   ]
  },
  {
   "cell_type": "code",
   "execution_count": null,
   "id": "7ea0bb6f",
   "metadata": {},
   "outputs": [],
   "source": [
    "train_loader, val_loader, test_loader = get_data_loaders(\n",
    "    dataset_dir='dataset_6',\n",
    "    batch_size=16,\n",
    "    train_ratio=0.8,\n",
    "    val_ratio=0.1\n",
    ")\n",
    "\n",
    "sr_net = SRNet().to(device)\n",
    "\n",
    "use_amp = hasattr(torch.cuda, 'amp')\n",
    "scaler = torch.amp.GradScaler('cuda') if use_amp else None\n",
    "\n",
    "lr = 0.01\n",
    "criterion = nn.BCEWithLogitsLoss()\n",
    "optimizer_sr = torch.optim.Adam(sr_net.parameters(), lr=lr)\n",
    "\n",
    "accumulation_steps = 4"
   ]
  },
  {
   "cell_type": "code",
   "execution_count": null,
   "id": "1ac413f2",
   "metadata": {},
   "outputs": [
    {
     "name": "stderr",
     "output_type": "stream",
     "text": [
      "Epoch 1/10 [Train]: 100%|██████████| 1634/1634 [10:14<00:00,  2.66it/s, loss=0.693, acc=50.20%, mem=90.8MB] \n",
      "Epoch 1/10 [Valid]: 100%|██████████| 205/205 [00:31<00:00,  6.44it/s, loss=0.6931, acc=48.18%]\n"
     ]
    },
    {
     "name": "stdout",
     "output_type": "stream",
     "text": [
      "Epoch 1/10 - Train Loss: 0.6935, Train Acc: 50.20%, Val Loss: 0.6931, Val Acc: 48.18%, Time: 646.69s\n",
      "Model saved to models/sr_net6.pth\n"
     ]
    },
    {
     "name": "stderr",
     "output_type": "stream",
     "text": [
      "Epoch 2/10 [Train]: 100%|██████████| 1634/1634 [10:22<00:00,  2.63it/s, loss=0.693, acc=50.19%, mem=90.8MB] \n",
      "Epoch 2/10 [Valid]: 100%|██████████| 205/205 [00:31<00:00,  6.41it/s, loss=0.6931, acc=48.18%]\n"
     ]
    },
    {
     "name": "stdout",
     "output_type": "stream",
     "text": [
      "Epoch 2/10 - Train Loss: 0.6931, Train Acc: 50.19%, Val Loss: 0.6931, Val Acc: 48.18%, Time: 654.69s\n"
     ]
    },
    {
     "name": "stderr",
     "output_type": "stream",
     "text": [
      "Epoch 3/10 [Train]:  92%|█████████▏| 1504/1634 [09:32<00:49,  2.63it/s, loss=0.693, acc=50.23%, mem=101.0MB]\n"
     ]
    },
    {
     "ename": "KeyboardInterrupt",
     "evalue": "",
     "output_type": "error",
     "traceback": [
      "\u001b[31m---------------------------------------------------------------------------\u001b[39m",
      "\u001b[31mKeyboardInterrupt\u001b[39m                         Traceback (most recent call last)",
      "\u001b[36mCell\u001b[39m\u001b[36m \u001b[39m\u001b[32mIn[17]\u001b[39m\u001b[32m, line 1\u001b[39m\n\u001b[32m----> \u001b[39m\u001b[32m1\u001b[39m sr_net = \u001b[43mtrain\u001b[49m\u001b[43m(\u001b[49m\n\u001b[32m      2\u001b[39m \u001b[43m    \u001b[49m\u001b[43mmodel\u001b[49m\u001b[43m=\u001b[49m\u001b[43msr_net\u001b[49m\u001b[43m,\u001b[49m\n\u001b[32m      3\u001b[39m \u001b[43m    \u001b[49m\u001b[43mtrain_loader\u001b[49m\u001b[43m=\u001b[49m\u001b[43mtrain_loader\u001b[49m\u001b[43m,\u001b[49m\n\u001b[32m      4\u001b[39m \u001b[43m    \u001b[49m\u001b[43mval_loader\u001b[49m\u001b[43m=\u001b[49m\u001b[43mval_loader\u001b[49m\u001b[43m,\u001b[49m\n\u001b[32m      5\u001b[39m \u001b[43m    \u001b[49m\u001b[43mcriterion\u001b[49m\u001b[43m=\u001b[49m\u001b[43mcriterion\u001b[49m\u001b[43m,\u001b[49m\n\u001b[32m      6\u001b[39m \u001b[43m    \u001b[49m\u001b[43moptimizer\u001b[49m\u001b[43m=\u001b[49m\u001b[43moptimizer_sr\u001b[49m\u001b[43m,\u001b[49m\n\u001b[32m      7\u001b[39m \u001b[43m    \u001b[49m\u001b[43mscheduler\u001b[49m\u001b[43m=\u001b[49m\u001b[43mtorch\u001b[49m\u001b[43m.\u001b[49m\u001b[43moptim\u001b[49m\u001b[43m.\u001b[49m\u001b[43mlr_scheduler\u001b[49m\u001b[43m.\u001b[49m\u001b[43mReduceLROnPlateau\u001b[49m\u001b[43m(\u001b[49m\u001b[43moptimizer_sr\u001b[49m\u001b[43m,\u001b[49m\u001b[43m \u001b[49m\u001b[33;43m'\u001b[39;49m\u001b[33;43mmin\u001b[39;49m\u001b[33;43m'\u001b[39;49m\u001b[43m,\u001b[49m\u001b[43m \u001b[49m\u001b[43mpatience\u001b[49m\u001b[43m=\u001b[49m\u001b[32;43m3\u001b[39;49m\u001b[43m,\u001b[49m\u001b[43m \u001b[49m\u001b[43mfactor\u001b[49m\u001b[43m=\u001b[49m\u001b[32;43m0.5\u001b[39;49m\u001b[43m)\u001b[49m\u001b[43m,\u001b[49m\n\u001b[32m      8\u001b[39m \u001b[43m    \u001b[49m\u001b[43mnum_epochs\u001b[49m\u001b[43m=\u001b[49m\u001b[32;43m10\u001b[39;49m\u001b[43m,\u001b[49m\n\u001b[32m      9\u001b[39m \u001b[43m    \u001b[49m\u001b[43mdevice\u001b[49m\u001b[43m=\u001b[49m\u001b[43mdevice\u001b[49m\u001b[43m,\u001b[49m\n\u001b[32m     10\u001b[39m \u001b[43m    \u001b[49m\u001b[43msave_path\u001b[49m\u001b[43m=\u001b[49m\u001b[33;43m'\u001b[39;49m\u001b[33;43mmodels/sr_net6.pth\u001b[39;49m\u001b[33;43m'\u001b[39;49m\u001b[43m,\u001b[49m\n\u001b[32m     11\u001b[39m \u001b[43m    \u001b[49m\u001b[43maccumulation_steps\u001b[49m\u001b[43m=\u001b[49m\u001b[43maccumulation_steps\u001b[49m\u001b[43m,\u001b[49m\n\u001b[32m     12\u001b[39m \u001b[43m    \u001b[49m\u001b[43muse_amp\u001b[49m\u001b[43m=\u001b[49m\u001b[43muse_amp\u001b[49m\u001b[43m,\u001b[49m\n\u001b[32m     13\u001b[39m \u001b[43m    \u001b[49m\u001b[43mscaler\u001b[49m\u001b[43m=\u001b[49m\u001b[43mscaler\u001b[49m\n\u001b[32m     14\u001b[39m \u001b[43m)\u001b[49m\n",
      "\u001b[36mCell\u001b[39m\u001b[36m \u001b[39m\u001b[32mIn[7]\u001b[39m\u001b[32m, line 58\u001b[39m, in \u001b[36mtrain\u001b[39m\u001b[34m(model, train_loader, val_loader, criterion, optimizer, scheduler, num_epochs, device, save_path, accumulation_steps, use_amp, scaler)\u001b[39m\n\u001b[32m     56\u001b[39m predicted = (outputs > \u001b[32m0.5\u001b[39m).float()\n\u001b[32m     57\u001b[39m total += labels.size(\u001b[32m0\u001b[39m)\n\u001b[32m---> \u001b[39m\u001b[32m58\u001b[39m correct += \u001b[43m(\u001b[49m\u001b[43mpredicted\u001b[49m\u001b[43m.\u001b[49m\u001b[43mview\u001b[49m\u001b[43m(\u001b[49m\u001b[43m-\u001b[49m\u001b[32;43m1\u001b[39;49m\u001b[43m)\u001b[49m\u001b[43m \u001b[49m\u001b[43m==\u001b[49m\u001b[43m \u001b[49m\u001b[43mlabels\u001b[49m\u001b[43m)\u001b[49m\u001b[43m.\u001b[49m\u001b[43msum\u001b[49m\u001b[43m(\u001b[49m\u001b[43m)\u001b[49m\u001b[43m.\u001b[49m\u001b[43mitem\u001b[49m\u001b[43m(\u001b[49m\u001b[43m)\u001b[49m\n\u001b[32m     60\u001b[39m \u001b[38;5;66;03m# Accumulate loss\u001b[39;00m\n\u001b[32m     61\u001b[39m running_loss += loss.item() * accumulation_steps\n",
      "\u001b[31mKeyboardInterrupt\u001b[39m: "
     ]
    }
   ],
   "source": [
    "sr_net = train(\n",
    "    model=sr_net,\n",
    "    train_loader=train_loader,\n",
    "    val_loader=val_loader,\n",
    "    criterion=criterion,\n",
    "    optimizer=optimizer_sr,\n",
    "    scheduler=torch.optim.lr_scheduler.ReduceLROnPlateau(optimizer_sr, 'min', patience=3, factor=0.5),\n",
    "    num_epochs=10,\n",
    "    device=device,\n",
    "    save_path='models/sr_net6.pth',\n",
    "    accumulation_steps=accumulation_steps,\n",
    "    use_amp=use_amp,\n",
    "    scaler=scaler\n",
    ")"
   ]
  },
  {
   "cell_type": "markdown",
   "id": "ff16d8cf",
   "metadata": {},
   "source": [
    "# LSB 5 Train"
   ]
  },
  {
   "cell_type": "code",
   "execution_count": 6,
   "id": "260e7067",
   "metadata": {},
   "outputs": [],
   "source": [
    "train_loader, val_loader, test_loader = get_data_loaders(\n",
    "    dataset_dir='dataset_5',\n",
    "    batch_size=32,\n",
    "    train_ratio=0.8,\n",
    "    val_ratio=0.1\n",
    ")\n",
    "\n",
    "ye_net = YeNet().to(device)\n",
    "\n",
    "use_amp = hasattr(torch.cuda, 'amp')\n",
    "scaler = torch.amp.GradScaler('cuda') if use_amp else None\n",
    "\n",
    "lr = 0.001\n",
    "criterion = nn.BCEWithLogitsLoss()\n",
    "optimizer_ye = torch.optim.Adam(ye_net.parameters(), lr=lr)\n",
    "\n",
    "accumulation_steps = 4 "
   ]
  },
  {
   "cell_type": "code",
   "execution_count": 7,
   "id": "bee2ea6f",
   "metadata": {},
   "outputs": [
    {
     "name": "stderr",
     "output_type": "stream",
     "text": [
      "Epoch 1/10 [Train]: 100%|██████████| 817/817 [02:33<00:00,  5.33it/s, loss=0.693, acc=50.26%, mem=118.8MB]\n",
      "Epoch 1/10 [Valid]: 100%|██████████| 103/103 [00:16<00:00,  6.11it/s, loss=0.6930, acc=48.18%]\n"
     ]
    },
    {
     "name": "stdout",
     "output_type": "stream",
     "text": [
      "Epoch 1/10 - Train Loss: 0.6933, Train Acc: 50.26%, Val Loss: 0.6930, Val Acc: 48.18%, Time: 170.21s\n",
      "Model saved to models/ye_net5.pth\n"
     ]
    },
    {
     "name": "stderr",
     "output_type": "stream",
     "text": [
      "Epoch 2/10 [Train]: 100%|██████████| 817/817 [02:34<00:00,  5.29it/s, loss=0.693, acc=50.18%, mem=118.8MB]\n",
      "Epoch 2/10 [Valid]: 100%|██████████| 103/103 [00:16<00:00,  6.11it/s, loss=0.6931, acc=48.18%]\n"
     ]
    },
    {
     "name": "stdout",
     "output_type": "stream",
     "text": [
      "Epoch 2/10 - Train Loss: 0.6932, Train Acc: 50.18%, Val Loss: 0.6931, Val Acc: 48.18%, Time: 171.74s\n"
     ]
    },
    {
     "name": "stderr",
     "output_type": "stream",
     "text": [
      "Epoch 3/10 [Train]: 100%|██████████| 817/817 [02:29<00:00,  5.48it/s, loss=0.693, acc=50.19%, mem=118.8MB]\n",
      "Epoch 3/10 [Valid]: 100%|██████████| 103/103 [00:15<00:00,  6.58it/s, loss=0.6931, acc=48.18%]\n"
     ]
    },
    {
     "name": "stdout",
     "output_type": "stream",
     "text": [
      "Epoch 3/10 - Train Loss: 0.6931, Train Acc: 50.19%, Val Loss: 0.6931, Val Acc: 48.18%, Time: 164.85s\n"
     ]
    },
    {
     "name": "stderr",
     "output_type": "stream",
     "text": [
      "Epoch 4/10 [Train]: 100%|██████████| 817/817 [02:30<00:00,  5.43it/s, loss=0.693, acc=50.19%, mem=118.8MB]\n",
      "Epoch 4/10 [Valid]: 100%|██████████| 103/103 [00:17<00:00,  6.04it/s, loss=0.6931, acc=48.18%]\n"
     ]
    },
    {
     "name": "stdout",
     "output_type": "stream",
     "text": [
      "Epoch 4/10 - Train Loss: 0.6931, Train Acc: 50.19%, Val Loss: 0.6931, Val Acc: 48.18%, Time: 167.90s\n"
     ]
    },
    {
     "name": "stderr",
     "output_type": "stream",
     "text": [
      "Epoch 5/10 [Train]: 100%|██████████| 817/817 [02:29<00:00,  5.46it/s, loss=0.693, acc=50.19%, mem=118.8MB]\n",
      "Epoch 5/10 [Valid]: 100%|██████████| 103/103 [00:16<00:00,  6.07it/s, loss=0.6931, acc=48.18%]\n"
     ]
    },
    {
     "name": "stdout",
     "output_type": "stream",
     "text": [
      "Epoch 5/10 - Train Loss: 0.6931, Train Acc: 50.19%, Val Loss: 0.6931, Val Acc: 48.18%, Time: 167.10s\n"
     ]
    },
    {
     "name": "stderr",
     "output_type": "stream",
     "text": [
      "Epoch 6/10 [Train]: 100%|██████████| 817/817 [02:29<00:00,  5.48it/s, loss=0.693, acc=50.19%, mem=118.8MB]\n",
      "Epoch 6/10 [Valid]: 100%|██████████| 103/103 [00:15<00:00,  6.44it/s, loss=0.6931, acc=48.18%]\n"
     ]
    },
    {
     "name": "stdout",
     "output_type": "stream",
     "text": [
      "Epoch 6/10 - Train Loss: 0.6931, Train Acc: 50.19%, Val Loss: 0.6931, Val Acc: 48.18%, Time: 165.59s\n"
     ]
    },
    {
     "name": "stderr",
     "output_type": "stream",
     "text": [
      "Epoch 7/10 [Train]: 100%|██████████| 817/817 [02:27<00:00,  5.53it/s, loss=0.693, acc=50.19%, mem=118.8MB]\n",
      "Epoch 7/10 [Valid]: 100%|██████████| 103/103 [00:15<00:00,  6.63it/s, loss=0.6931, acc=48.18%]\n"
     ]
    },
    {
     "name": "stdout",
     "output_type": "stream",
     "text": [
      "Epoch 7/10 - Train Loss: 0.6931, Train Acc: 50.19%, Val Loss: 0.6931, Val Acc: 48.18%, Time: 163.55s\n"
     ]
    },
    {
     "name": "stderr",
     "output_type": "stream",
     "text": [
      "Epoch 8/10 [Train]: 100%|██████████| 817/817 [02:28<00:00,  5.50it/s, loss=0.693, acc=50.19%, mem=118.8MB]\n",
      "Epoch 8/10 [Valid]: 100%|██████████| 103/103 [00:16<00:00,  6.33it/s, loss=0.6931, acc=48.18%]\n"
     ]
    },
    {
     "name": "stdout",
     "output_type": "stream",
     "text": [
      "Epoch 8/10 - Train Loss: 0.6931, Train Acc: 50.19%, Val Loss: 0.6931, Val Acc: 48.18%, Time: 164.83s\n"
     ]
    },
    {
     "name": "stderr",
     "output_type": "stream",
     "text": [
      "Epoch 9/10 [Train]: 100%|██████████| 817/817 [02:28<00:00,  5.50it/s, loss=0.693, acc=50.19%, mem=118.8MB]\n",
      "Epoch 9/10 [Valid]: 100%|██████████| 103/103 [00:15<00:00,  6.53it/s, loss=0.6931, acc=48.18%]\n"
     ]
    },
    {
     "name": "stdout",
     "output_type": "stream",
     "text": [
      "Epoch 9/10 - Train Loss: 0.6931, Train Acc: 50.19%, Val Loss: 0.6931, Val Acc: 48.18%, Time: 164.77s\n"
     ]
    },
    {
     "name": "stderr",
     "output_type": "stream",
     "text": [
      "Epoch 10/10 [Train]: 100%|██████████| 817/817 [02:28<00:00,  5.51it/s, loss=0.693, acc=50.19%, mem=118.8MB]\n",
      "Epoch 10/10 [Valid]: 100%|██████████| 103/103 [00:17<00:00,  5.94it/s, loss=0.6931, acc=48.18%]\n"
     ]
    },
    {
     "name": "stdout",
     "output_type": "stream",
     "text": [
      "Epoch 10/10 - Train Loss: 0.6931, Train Acc: 50.19%, Val Loss: 0.6931, Val Acc: 48.18%, Time: 165.77s\n"
     ]
    }
   ],
   "source": [
    "ye_net = train(\n",
    "    model=ye_net,\n",
    "    train_loader=train_loader,\n",
    "    val_loader=val_loader,\n",
    "    criterion=criterion,\n",
    "    optimizer=optimizer_ye,\n",
    "    scheduler=torch.optim.lr_scheduler.ReduceLROnPlateau(optimizer_ye, 'min', patience=3, factor=0.5),\n",
    "    num_epochs=10,\n",
    "    device=device,\n",
    "    save_path='models/ye_net5.pth',\n",
    "    accumulation_steps=accumulation_steps,\n",
    "    use_amp=use_amp,\n",
    "    scaler=scaler\n",
    ")"
   ]
  },
  {
   "cell_type": "markdown",
   "id": "f85f4c31",
   "metadata": {},
   "source": [
    "# LSB 4 Train"
   ]
  },
  {
   "cell_type": "code",
   "execution_count": 8,
   "id": "85d73aec",
   "metadata": {},
   "outputs": [],
   "source": [
    "train_loader, val_loader, test_loader = get_data_loaders(\n",
    "    dataset_dir='dataset_4',\n",
    "    batch_size=32,\n",
    "    train_ratio=0.8,\n",
    "    val_ratio=0.1\n",
    ")\n",
    "\n",
    "ye_net = YeNet().to(device)\n",
    "\n",
    "use_amp = hasattr(torch.cuda, 'amp')\n",
    "scaler = torch.amp.GradScaler('cuda') if use_amp else None\n",
    "\n",
    "lr = 0.001\n",
    "criterion = nn.BCEWithLogitsLoss()\n",
    "optimizer_ye = torch.optim.Adam(ye_net.parameters(), lr=lr)\n",
    "\n",
    "accumulation_steps = 4 "
   ]
  },
  {
   "cell_type": "code",
   "execution_count": 9,
   "id": "e23c9502",
   "metadata": {},
   "outputs": [
    {
     "name": "stderr",
     "output_type": "stream",
     "text": [
      "Epoch 1/10 [Train]: 100%|██████████| 817/817 [02:34<00:00,  5.28it/s, loss=0.694, acc=50.16%, mem=118.8MB]\n",
      "Epoch 1/10 [Valid]: 100%|██████████| 103/103 [00:15<00:00,  6.59it/s, loss=0.6931, acc=48.18%]\n"
     ]
    },
    {
     "name": "stdout",
     "output_type": "stream",
     "text": [
      "Epoch 1/10 - Train Loss: 0.6935, Train Acc: 50.16%, Val Loss: 0.6931, Val Acc: 48.18%, Time: 170.51s\n",
      "Model saved to models/ye_net4.pth\n"
     ]
    },
    {
     "name": "stderr",
     "output_type": "stream",
     "text": [
      "Epoch 2/10 [Train]: 100%|██████████| 817/817 [02:28<00:00,  5.50it/s, loss=0.693, acc=50.19%, mem=118.8MB]\n",
      "Epoch 2/10 [Valid]: 100%|██████████| 103/103 [00:15<00:00,  6.65it/s, loss=0.6931, acc=48.18%]\n"
     ]
    },
    {
     "name": "stdout",
     "output_type": "stream",
     "text": [
      "Epoch 2/10 - Train Loss: 0.6931, Train Acc: 50.19%, Val Loss: 0.6931, Val Acc: 48.18%, Time: 164.16s\n"
     ]
    },
    {
     "name": "stderr",
     "output_type": "stream",
     "text": [
      "Epoch 3/10 [Train]: 100%|██████████| 817/817 [02:27<00:00,  5.53it/s, loss=0.693, acc=50.19%, mem=118.8MB]\n",
      "Epoch 3/10 [Valid]: 100%|██████████| 103/103 [00:15<00:00,  6.62it/s, loss=0.6931, acc=48.18%]\n"
     ]
    },
    {
     "name": "stdout",
     "output_type": "stream",
     "text": [
      "Epoch 3/10 - Train Loss: 0.6931, Train Acc: 50.19%, Val Loss: 0.6931, Val Acc: 48.18%, Time: 163.34s\n"
     ]
    },
    {
     "name": "stderr",
     "output_type": "stream",
     "text": [
      "Epoch 4/10 [Train]: 100%|██████████| 817/817 [02:28<00:00,  5.52it/s, loss=0.693, acc=50.19%, mem=118.8MB]\n",
      "Epoch 4/10 [Valid]: 100%|██████████| 103/103 [00:16<00:00,  6.43it/s, loss=0.6931, acc=48.18%]\n"
     ]
    },
    {
     "name": "stdout",
     "output_type": "stream",
     "text": [
      "Epoch 4/10 - Train Loss: 0.6931, Train Acc: 50.19%, Val Loss: 0.6931, Val Acc: 48.18%, Time: 164.25s\n"
     ]
    },
    {
     "name": "stderr",
     "output_type": "stream",
     "text": [
      "Epoch 5/10 [Train]: 100%|██████████| 817/817 [02:27<00:00,  5.55it/s, loss=0.693, acc=50.19%, mem=118.8MB]\n",
      "Epoch 5/10 [Valid]: 100%|██████████| 103/103 [00:15<00:00,  6.56it/s, loss=0.6931, acc=48.18%]\n"
     ]
    },
    {
     "name": "stdout",
     "output_type": "stream",
     "text": [
      "Epoch 5/10 - Train Loss: 0.6931, Train Acc: 50.19%, Val Loss: 0.6931, Val Acc: 48.18%, Time: 163.05s\n"
     ]
    },
    {
     "name": "stderr",
     "output_type": "stream",
     "text": [
      "Epoch 6/10 [Train]: 100%|██████████| 817/817 [02:27<00:00,  5.53it/s, loss=0.693, acc=50.19%, mem=118.8MB]\n",
      "Epoch 6/10 [Valid]: 100%|██████████| 103/103 [00:17<00:00,  5.98it/s, loss=0.6931, acc=48.18%]\n"
     ]
    },
    {
     "name": "stdout",
     "output_type": "stream",
     "text": [
      "Epoch 6/10 - Train Loss: 0.6931, Train Acc: 50.19%, Val Loss: 0.6931, Val Acc: 48.18%, Time: 165.02s\n"
     ]
    },
    {
     "name": "stderr",
     "output_type": "stream",
     "text": [
      "Epoch 7/10 [Train]: 100%|██████████| 817/817 [02:29<00:00,  5.47it/s, loss=0.693, acc=50.19%, mem=118.8MB]\n",
      "Epoch 7/10 [Valid]: 100%|██████████| 103/103 [00:15<00:00,  6.50it/s, loss=0.6931, acc=48.18%]\n"
     ]
    },
    {
     "name": "stdout",
     "output_type": "stream",
     "text": [
      "Epoch 7/10 - Train Loss: 0.6931, Train Acc: 50.19%, Val Loss: 0.6931, Val Acc: 48.18%, Time: 165.80s\n",
      "Model saved to models/ye_net4.pth\n"
     ]
    },
    {
     "name": "stderr",
     "output_type": "stream",
     "text": [
      "Epoch 8/10 [Train]: 100%|██████████| 817/817 [02:27<00:00,  5.53it/s, loss=0.693, acc=50.19%, mem=118.8MB]\n",
      "Epoch 8/10 [Valid]: 100%|██████████| 103/103 [00:15<00:00,  6.63it/s, loss=0.6931, acc=48.18%]\n"
     ]
    },
    {
     "name": "stdout",
     "output_type": "stream",
     "text": [
      "Epoch 8/10 - Train Loss: 0.6931, Train Acc: 50.19%, Val Loss: 0.6931, Val Acc: 48.18%, Time: 163.73s\n"
     ]
    },
    {
     "name": "stderr",
     "output_type": "stream",
     "text": [
      "Epoch 9/10 [Train]: 100%|██████████| 817/817 [02:29<00:00,  5.48it/s, loss=0.693, acc=50.19%, mem=118.8MB]\n",
      "Epoch 9/10 [Valid]: 100%|██████████| 103/103 [00:16<00:00,  6.39it/s, loss=0.6931, acc=48.18%]\n"
     ]
    },
    {
     "name": "stdout",
     "output_type": "stream",
     "text": [
      "Epoch 9/10 - Train Loss: 0.6931, Train Acc: 50.19%, Val Loss: 0.6931, Val Acc: 48.18%, Time: 165.45s\n"
     ]
    },
    {
     "name": "stderr",
     "output_type": "stream",
     "text": [
      "Epoch 10/10 [Train]: 100%|██████████| 817/817 [02:27<00:00,  5.53it/s, loss=0.693, acc=50.19%, mem=118.8MB]\n",
      "Epoch 10/10 [Valid]: 100%|██████████| 103/103 [00:16<00:00,  6.39it/s, loss=0.6931, acc=48.18%]\n"
     ]
    },
    {
     "name": "stdout",
     "output_type": "stream",
     "text": [
      "Epoch 10/10 - Train Loss: 0.6931, Train Acc: 50.19%, Val Loss: 0.6931, Val Acc: 48.18%, Time: 164.32s\n"
     ]
    }
   ],
   "source": [
    "ye_net = train(\n",
    "    model=ye_net,\n",
    "    train_loader=train_loader,\n",
    "    val_loader=val_loader,\n",
    "    criterion=criterion,\n",
    "    optimizer=optimizer_ye,\n",
    "    scheduler=torch.optim.lr_scheduler.ReduceLROnPlateau(optimizer_ye, 'min', patience=3, factor=0.5),\n",
    "    num_epochs=10,\n",
    "    device=device,\n",
    "    save_path='models/ye_net4.pth',\n",
    "    accumulation_steps=accumulation_steps,\n",
    "    use_amp=use_amp,\n",
    "    scaler=scaler\n",
    ")"
   ]
  },
  {
   "cell_type": "markdown",
   "id": "5e62073b",
   "metadata": {},
   "source": [
    "# LSB 3 Train"
   ]
  },
  {
   "cell_type": "code",
   "execution_count": 10,
   "id": "b6d514fb",
   "metadata": {},
   "outputs": [],
   "source": [
    "train_loader, val_loader, test_loader = get_data_loaders(\n",
    "    dataset_dir='dataset_3',\n",
    "    batch_size=32,\n",
    "    train_ratio=0.8,\n",
    "    val_ratio=0.1\n",
    ")\n",
    "\n",
    "ye_net = YeNet().to(device)\n",
    "\n",
    "use_amp = hasattr(torch.cuda, 'amp')\n",
    "scaler = torch.amp.GradScaler('cuda') if use_amp else None\n",
    "\n",
    "lr = 0.001\n",
    "criterion = nn.BCEWithLogitsLoss()\n",
    "optimizer_ye = torch.optim.Adam(ye_net.parameters(), lr=lr)\n",
    "\n",
    "accumulation_steps = 4 "
   ]
  },
  {
   "cell_type": "code",
   "execution_count": 11,
   "id": "61869ef9",
   "metadata": {},
   "outputs": [
    {
     "name": "stderr",
     "output_type": "stream",
     "text": [
      "Epoch 1/10 [Train]: 100%|██████████| 817/817 [02:28<00:00,  5.49it/s, loss=0.693, acc=50.20%, mem=118.8MB]\n",
      "Epoch 1/10 [Valid]: 100%|██████████| 103/103 [00:15<00:00,  6.45it/s, loss=0.6931, acc=48.18%]\n"
     ]
    },
    {
     "name": "stdout",
     "output_type": "stream",
     "text": [
      "Epoch 1/10 - Train Loss: 0.6934, Train Acc: 50.20%, Val Loss: 0.6931, Val Acc: 48.18%, Time: 164.91s\n",
      "Model saved to models/ye_net3.pth\n"
     ]
    },
    {
     "name": "stderr",
     "output_type": "stream",
     "text": [
      "Epoch 2/10 [Train]: 100%|██████████| 817/817 [02:27<00:00,  5.54it/s, loss=0.693, acc=50.19%, mem=118.8MB]\n",
      "Epoch 2/10 [Valid]: 100%|██████████| 103/103 [00:16<00:00,  6.14it/s, loss=0.6931, acc=48.18%]\n"
     ]
    },
    {
     "name": "stdout",
     "output_type": "stream",
     "text": [
      "Epoch 2/10 - Train Loss: 0.6932, Train Acc: 50.19%, Val Loss: 0.6931, Val Acc: 48.18%, Time: 164.34s\n"
     ]
    },
    {
     "name": "stderr",
     "output_type": "stream",
     "text": [
      "Epoch 3/10 [Train]: 100%|██████████| 817/817 [02:27<00:00,  5.53it/s, loss=0.693, acc=50.19%, mem=118.8MB]\n",
      "Epoch 3/10 [Valid]: 100%|██████████| 103/103 [00:15<00:00,  6.61it/s, loss=0.6931, acc=48.18%]\n"
     ]
    },
    {
     "name": "stdout",
     "output_type": "stream",
     "text": [
      "Epoch 3/10 - Train Loss: 0.6931, Train Acc: 50.19%, Val Loss: 0.6931, Val Acc: 48.18%, Time: 163.87s\n"
     ]
    },
    {
     "name": "stderr",
     "output_type": "stream",
     "text": [
      "Epoch 4/10 [Train]: 100%|██████████| 817/817 [02:27<00:00,  5.52it/s, loss=0.693, acc=50.19%, mem=118.8MB]\n",
      "Epoch 4/10 [Valid]: 100%|██████████| 103/103 [00:16<00:00,  6.36it/s, loss=0.6931, acc=48.18%]\n"
     ]
    },
    {
     "name": "stdout",
     "output_type": "stream",
     "text": [
      "Epoch 4/10 - Train Loss: 0.6931, Train Acc: 50.19%, Val Loss: 0.6931, Val Acc: 48.18%, Time: 164.43s\n"
     ]
    },
    {
     "name": "stderr",
     "output_type": "stream",
     "text": [
      "Epoch 5/10 [Train]: 100%|██████████| 817/817 [02:28<00:00,  5.49it/s, loss=0.693, acc=50.19%, mem=118.8MB]\n",
      "Epoch 5/10 [Valid]: 100%|██████████| 103/103 [00:15<00:00,  6.53it/s, loss=0.6931, acc=48.18%]\n"
     ]
    },
    {
     "name": "stdout",
     "output_type": "stream",
     "text": [
      "Epoch 5/10 - Train Loss: 0.6931, Train Acc: 50.19%, Val Loss: 0.6931, Val Acc: 48.18%, Time: 165.20s\n"
     ]
    },
    {
     "name": "stderr",
     "output_type": "stream",
     "text": [
      "Epoch 6/10 [Train]: 100%|██████████| 817/817 [02:29<00:00,  5.48it/s, loss=0.693, acc=50.19%, mem=118.8MB]\n",
      "Epoch 6/10 [Valid]: 100%|██████████| 103/103 [00:16<00:00,  6.38it/s, loss=0.6931, acc=48.18%]\n"
     ]
    },
    {
     "name": "stdout",
     "output_type": "stream",
     "text": [
      "Epoch 6/10 - Train Loss: 0.6931, Train Acc: 50.19%, Val Loss: 0.6931, Val Acc: 48.18%, Time: 165.47s\n"
     ]
    },
    {
     "name": "stderr",
     "output_type": "stream",
     "text": [
      "Epoch 7/10 [Train]: 100%|██████████| 817/817 [02:28<00:00,  5.49it/s, loss=0.693, acc=50.19%, mem=118.8MB]\n",
      "Epoch 7/10 [Valid]: 100%|██████████| 103/103 [00:16<00:00,  6.42it/s, loss=0.6931, acc=48.18%]\n"
     ]
    },
    {
     "name": "stdout",
     "output_type": "stream",
     "text": [
      "Epoch 7/10 - Train Loss: 0.6931, Train Acc: 50.19%, Val Loss: 0.6931, Val Acc: 48.18%, Time: 165.36s\n"
     ]
    },
    {
     "name": "stderr",
     "output_type": "stream",
     "text": [
      "Epoch 8/10 [Train]: 100%|██████████| 817/817 [02:28<00:00,  5.49it/s, loss=0.693, acc=50.19%, mem=118.8MB]\n",
      "Epoch 8/10 [Valid]: 100%|██████████| 103/103 [00:15<00:00,  6.44it/s, loss=0.6931, acc=48.18%]\n"
     ]
    },
    {
     "name": "stdout",
     "output_type": "stream",
     "text": [
      "Epoch 8/10 - Train Loss: 0.6931, Train Acc: 50.19%, Val Loss: 0.6931, Val Acc: 48.18%, Time: 165.03s\n"
     ]
    },
    {
     "name": "stderr",
     "output_type": "stream",
     "text": [
      "Epoch 9/10 [Train]: 100%|██████████| 817/817 [02:27<00:00,  5.55it/s, loss=0.693, acc=50.19%, mem=118.8MB]\n",
      "Epoch 9/10 [Valid]: 100%|██████████| 103/103 [00:15<00:00,  6.49it/s, loss=0.6931, acc=48.18%]\n"
     ]
    },
    {
     "name": "stdout",
     "output_type": "stream",
     "text": [
      "Epoch 9/10 - Train Loss: 0.6931, Train Acc: 50.19%, Val Loss: 0.6931, Val Acc: 48.18%, Time: 163.37s\n"
     ]
    },
    {
     "name": "stderr",
     "output_type": "stream",
     "text": [
      "Epoch 10/10 [Train]: 100%|██████████| 817/817 [02:29<00:00,  5.45it/s, loss=0.693, acc=50.19%, mem=118.8MB]\n",
      "Epoch 10/10 [Valid]: 100%|██████████| 103/103 [00:16<00:00,  6.43it/s, loss=0.6931, acc=48.18%]\n"
     ]
    },
    {
     "name": "stdout",
     "output_type": "stream",
     "text": [
      "Epoch 10/10 - Train Loss: 0.6931, Train Acc: 50.19%, Val Loss: 0.6931, Val Acc: 48.18%, Time: 166.05s\n"
     ]
    }
   ],
   "source": [
    "ye_net = train(\n",
    "    model=ye_net,\n",
    "    train_loader=train_loader,\n",
    "    val_loader=val_loader,\n",
    "    criterion=criterion,\n",
    "    optimizer=optimizer_ye,\n",
    "    scheduler=torch.optim.lr_scheduler.ReduceLROnPlateau(optimizer_ye, 'min', patience=3, factor=0.5),\n",
    "    num_epochs=10,\n",
    "    device=device,\n",
    "    save_path='models/ye_net3.pth',\n",
    "    accumulation_steps=accumulation_steps,\n",
    "    use_amp=use_amp,\n",
    "    scaler=scaler\n",
    ")"
   ]
  },
  {
   "cell_type": "markdown",
   "id": "90c6a47c",
   "metadata": {},
   "source": [
    "# LSB 2 Train"
   ]
  },
  {
   "cell_type": "code",
   "execution_count": 13,
   "id": "cf240a99",
   "metadata": {},
   "outputs": [],
   "source": [
    "train_loader, val_loader, test_loader = get_data_loaders(\n",
    "    dataset_dir='dataset_2',\n",
    "    batch_size=32,\n",
    "    train_ratio=0.8,\n",
    "    val_ratio=0.1\n",
    ")\n",
    "\n",
    "ye_net = YeNet().to(device)\n",
    "\n",
    "use_amp = hasattr(torch.cuda, 'amp')\n",
    "scaler = torch.amp.GradScaler('cuda') if use_amp else None\n",
    "\n",
    "lr = 0.001\n",
    "criterion = nn.BCEWithLogitsLoss()\n",
    "optimizer_ye = torch.optim.Adam(ye_net.parameters(), lr=lr)\n",
    "\n",
    "accumulation_steps = 4 "
   ]
  },
  {
   "cell_type": "code",
   "execution_count": 14,
   "id": "5727b213",
   "metadata": {},
   "outputs": [
    {
     "name": "stderr",
     "output_type": "stream",
     "text": [
      "Epoch 1/10 [Train]: 100%|██████████| 817/817 [02:28<00:00,  5.51it/s, loss=0.693, acc=50.22%, mem=118.8MB]\n",
      "Epoch 1/10 [Valid]: 100%|██████████| 103/103 [00:15<00:00,  6.46it/s, loss=0.6931, acc=48.18%]\n"
     ]
    },
    {
     "name": "stdout",
     "output_type": "stream",
     "text": [
      "Epoch 1/10 - Train Loss: 0.6933, Train Acc: 50.22%, Val Loss: 0.6931, Val Acc: 48.18%, Time: 164.77s\n",
      "Model saved to models/ye_net2.pth\n"
     ]
    },
    {
     "name": "stderr",
     "output_type": "stream",
     "text": [
      "Epoch 2/10 [Train]: 100%|██████████| 817/817 [02:27<00:00,  5.53it/s, loss=0.693, acc=50.19%, mem=118.8MB]\n",
      "Epoch 2/10 [Valid]: 100%|██████████| 103/103 [00:15<00:00,  6.53it/s, loss=0.6931, acc=48.18%]\n"
     ]
    },
    {
     "name": "stdout",
     "output_type": "stream",
     "text": [
      "Epoch 2/10 - Train Loss: 0.6931, Train Acc: 50.19%, Val Loss: 0.6931, Val Acc: 48.18%, Time: 163.64s\n"
     ]
    },
    {
     "name": "stderr",
     "output_type": "stream",
     "text": [
      "Epoch 3/10 [Train]: 100%|██████████| 817/817 [02:28<00:00,  5.52it/s, loss=0.693, acc=50.19%, mem=118.8MB]\n",
      "Epoch 3/10 [Valid]: 100%|██████████| 103/103 [00:15<00:00,  6.65it/s, loss=0.6931, acc=48.18%]\n"
     ]
    },
    {
     "name": "stdout",
     "output_type": "stream",
     "text": [
      "Epoch 3/10 - Train Loss: 0.6931, Train Acc: 50.19%, Val Loss: 0.6931, Val Acc: 48.18%, Time: 163.66s\n"
     ]
    },
    {
     "name": "stderr",
     "output_type": "stream",
     "text": [
      "Epoch 4/10 [Train]: 100%|██████████| 817/817 [02:28<00:00,  5.51it/s, loss=0.693, acc=50.19%, mem=118.8MB]\n",
      "Epoch 4/10 [Valid]: 100%|██████████| 103/103 [00:15<00:00,  6.54it/s, loss=0.6931, acc=48.18%]\n"
     ]
    },
    {
     "name": "stdout",
     "output_type": "stream",
     "text": [
      "Epoch 4/10 - Train Loss: 0.6931, Train Acc: 50.19%, Val Loss: 0.6931, Val Acc: 48.18%, Time: 164.10s\n"
     ]
    },
    {
     "name": "stderr",
     "output_type": "stream",
     "text": [
      "Epoch 5/10 [Train]: 100%|██████████| 817/817 [02:28<00:00,  5.50it/s, loss=0.693, acc=50.19%, mem=118.8MB]\n",
      "Epoch 5/10 [Valid]: 100%|██████████| 103/103 [00:15<00:00,  6.51it/s, loss=0.6931, acc=48.18%]\n"
     ]
    },
    {
     "name": "stdout",
     "output_type": "stream",
     "text": [
      "Epoch 5/10 - Train Loss: 0.6931, Train Acc: 50.19%, Val Loss: 0.6931, Val Acc: 48.18%, Time: 165.00s\n"
     ]
    },
    {
     "name": "stderr",
     "output_type": "stream",
     "text": [
      "Epoch 6/10 [Train]: 100%|██████████| 817/817 [02:29<00:00,  5.45it/s, loss=0.693, acc=50.19%, mem=118.8MB]\n",
      "Epoch 6/10 [Valid]: 100%|██████████| 103/103 [00:16<00:00,  6.39it/s, loss=0.6931, acc=48.18%]\n"
     ]
    },
    {
     "name": "stdout",
     "output_type": "stream",
     "text": [
      "Epoch 6/10 - Train Loss: 0.6931, Train Acc: 50.19%, Val Loss: 0.6931, Val Acc: 48.18%, Time: 166.42s\n"
     ]
    },
    {
     "name": "stderr",
     "output_type": "stream",
     "text": [
      "Epoch 7/10 [Train]: 100%|██████████| 817/817 [02:28<00:00,  5.51it/s, loss=0.693, acc=50.19%, mem=118.8MB]\n",
      "Epoch 7/10 [Valid]: 100%|██████████| 103/103 [00:16<00:00,  6.43it/s, loss=0.6931, acc=48.18%]\n"
     ]
    },
    {
     "name": "stdout",
     "output_type": "stream",
     "text": [
      "Epoch 7/10 - Train Loss: 0.6931, Train Acc: 50.19%, Val Loss: 0.6931, Val Acc: 48.18%, Time: 164.85s\n"
     ]
    },
    {
     "name": "stderr",
     "output_type": "stream",
     "text": [
      "Epoch 8/10 [Train]: 100%|██████████| 817/817 [02:29<00:00,  5.48it/s, loss=0.693, acc=50.19%, mem=118.8MB]\n",
      "Epoch 8/10 [Valid]: 100%|██████████| 103/103 [00:15<00:00,  6.50it/s, loss=0.6931, acc=48.18%]\n"
     ]
    },
    {
     "name": "stdout",
     "output_type": "stream",
     "text": [
      "Epoch 8/10 - Train Loss: 0.6931, Train Acc: 50.19%, Val Loss: 0.6931, Val Acc: 48.18%, Time: 165.14s\n"
     ]
    },
    {
     "name": "stderr",
     "output_type": "stream",
     "text": [
      "Epoch 9/10 [Train]: 100%|██████████| 817/817 [02:28<00:00,  5.50it/s, loss=0.693, acc=50.19%, mem=118.8MB]\n",
      "Epoch 9/10 [Valid]: 100%|██████████| 103/103 [00:16<00:00,  6.33it/s, loss=0.6931, acc=48.18%]\n"
     ]
    },
    {
     "name": "stdout",
     "output_type": "stream",
     "text": [
      "Epoch 9/10 - Train Loss: 0.6931, Train Acc: 50.19%, Val Loss: 0.6931, Val Acc: 48.18%, Time: 165.42s\n"
     ]
    },
    {
     "name": "stderr",
     "output_type": "stream",
     "text": [
      "Epoch 10/10 [Train]: 100%|██████████| 817/817 [02:29<00:00,  5.46it/s, loss=0.693, acc=50.19%, mem=118.8MB]\n",
      "Epoch 10/10 [Valid]: 100%|██████████| 103/103 [00:16<00:00,  6.38it/s, loss=0.6931, acc=48.18%]\n"
     ]
    },
    {
     "name": "stdout",
     "output_type": "stream",
     "text": [
      "Epoch 10/10 - Train Loss: 0.6931, Train Acc: 50.19%, Val Loss: 0.6931, Val Acc: 48.18%, Time: 166.05s\n"
     ]
    }
   ],
   "source": [
    "ye_net = train(\n",
    "    model=ye_net,\n",
    "    train_loader=train_loader,\n",
    "    val_loader=val_loader,\n",
    "    criterion=criterion,\n",
    "    optimizer=optimizer_ye,\n",
    "    scheduler=torch.optim.lr_scheduler.ReduceLROnPlateau(optimizer_ye, 'min', patience=3, factor=0.5),\n",
    "    num_epochs=10,\n",
    "    device=device,\n",
    "    save_path='models/ye_net2.pth',\n",
    "    accumulation_steps=accumulation_steps,\n",
    "    use_amp=use_amp,\n",
    "    scaler=scaler\n",
    ")"
   ]
  },
  {
   "cell_type": "markdown",
   "id": "1be3c7e8",
   "metadata": {},
   "source": [
    "# LSB 1 Train"
   ]
  },
  {
   "cell_type": "code",
   "execution_count": 15,
   "id": "84aa6e8e",
   "metadata": {},
   "outputs": [],
   "source": [
    "train_loader, val_loader, test_loader = get_data_loaders(\n",
    "    dataset_dir='dataset_1',\n",
    "    batch_size=32,\n",
    "    train_ratio=0.8,\n",
    "    val_ratio=0.1\n",
    ")\n",
    "\n",
    "ye_net = YeNet().to(device)\n",
    "\n",
    "use_amp = hasattr(torch.cuda, 'amp')\n",
    "scaler = torch.amp.GradScaler('cuda') if use_amp else None\n",
    "\n",
    "lr = 0.001\n",
    "criterion = nn.BCEWithLogitsLoss()\n",
    "optimizer_ye = torch.optim.Adam(ye_net.parameters(), lr=lr)\n",
    "\n",
    "accumulation_steps = 4 "
   ]
  },
  {
   "cell_type": "code",
   "execution_count": 16,
   "id": "e240f4c4",
   "metadata": {},
   "outputs": [
    {
     "name": "stderr",
     "output_type": "stream",
     "text": [
      "Epoch 1/10 [Train]: 100%|██████████| 817/817 [02:28<00:00,  5.49it/s, loss=0.693, acc=50.18%, mem=118.8MB]\n",
      "Epoch 1/10 [Valid]: 100%|██████████| 103/103 [00:15<00:00,  6.45it/s, loss=0.6931, acc=48.18%]\n"
     ]
    },
    {
     "name": "stdout",
     "output_type": "stream",
     "text": [
      "Epoch 1/10 - Train Loss: 0.6933, Train Acc: 50.18%, Val Loss: 0.6931, Val Acc: 48.18%, Time: 165.11s\n",
      "Model saved to models/ye_net1.pth\n"
     ]
    },
    {
     "name": "stderr",
     "output_type": "stream",
     "text": [
      "Epoch 2/10 [Train]: 100%|██████████| 817/817 [02:29<00:00,  5.48it/s, loss=0.693, acc=50.19%, mem=118.8MB]\n",
      "Epoch 2/10 [Valid]: 100%|██████████| 103/103 [00:16<00:00,  6.44it/s, loss=0.6931, acc=48.18%]\n"
     ]
    },
    {
     "name": "stdout",
     "output_type": "stream",
     "text": [
      "Epoch 2/10 - Train Loss: 0.6932, Train Acc: 50.19%, Val Loss: 0.6931, Val Acc: 48.18%, Time: 165.17s\n"
     ]
    },
    {
     "name": "stderr",
     "output_type": "stream",
     "text": [
      "Epoch 3/10 [Train]: 100%|██████████| 817/817 [02:28<00:00,  5.50it/s, loss=0.693, acc=50.19%, mem=118.8MB]\n",
      "Epoch 3/10 [Valid]: 100%|██████████| 103/103 [00:16<00:00,  6.41it/s, loss=0.6931, acc=48.18%]\n"
     ]
    },
    {
     "name": "stdout",
     "output_type": "stream",
     "text": [
      "Epoch 3/10 - Train Loss: 0.6931, Train Acc: 50.19%, Val Loss: 0.6931, Val Acc: 48.18%, Time: 164.82s\n"
     ]
    },
    {
     "name": "stderr",
     "output_type": "stream",
     "text": [
      "Epoch 4/10 [Train]: 100%|██████████| 817/817 [02:29<00:00,  5.46it/s, loss=0.693, acc=50.19%, mem=118.8MB]\n",
      "Epoch 4/10 [Valid]: 100%|██████████| 103/103 [00:15<00:00,  6.50it/s, loss=0.6931, acc=48.18%]\n"
     ]
    },
    {
     "name": "stdout",
     "output_type": "stream",
     "text": [
      "Epoch 4/10 - Train Loss: 0.6931, Train Acc: 50.19%, Val Loss: 0.6931, Val Acc: 48.18%, Time: 165.64s\n"
     ]
    },
    {
     "name": "stderr",
     "output_type": "stream",
     "text": [
      "Epoch 5/10 [Train]: 100%|██████████| 817/817 [02:27<00:00,  5.52it/s, loss=0.693, acc=50.19%, mem=118.8MB]\n",
      "Epoch 5/10 [Valid]: 100%|██████████| 103/103 [00:15<00:00,  6.50it/s, loss=0.6931, acc=48.18%]\n"
     ]
    },
    {
     "name": "stdout",
     "output_type": "stream",
     "text": [
      "Epoch 5/10 - Train Loss: 0.6931, Train Acc: 50.19%, Val Loss: 0.6931, Val Acc: 48.18%, Time: 164.37s\n"
     ]
    },
    {
     "name": "stderr",
     "output_type": "stream",
     "text": [
      "Epoch 6/10 [Train]: 100%|██████████| 817/817 [02:28<00:00,  5.50it/s, loss=0.693, acc=50.19%, mem=118.8MB]\n",
      "Epoch 6/10 [Valid]: 100%|██████████| 103/103 [00:16<00:00,  6.41it/s, loss=0.6931, acc=48.18%]\n"
     ]
    },
    {
     "name": "stdout",
     "output_type": "stream",
     "text": [
      "Epoch 6/10 - Train Loss: 0.6931, Train Acc: 50.19%, Val Loss: 0.6931, Val Acc: 48.18%, Time: 164.69s\n"
     ]
    },
    {
     "name": "stderr",
     "output_type": "stream",
     "text": [
      "Epoch 7/10 [Train]: 100%|██████████| 817/817 [02:29<00:00,  5.45it/s, loss=0.693, acc=50.19%, mem=118.8MB]\n",
      "Epoch 7/10 [Valid]: 100%|██████████| 103/103 [00:15<00:00,  6.45it/s, loss=0.6931, acc=48.18%]\n"
     ]
    },
    {
     "name": "stdout",
     "output_type": "stream",
     "text": [
      "Epoch 7/10 - Train Loss: 0.6931, Train Acc: 50.19%, Val Loss: 0.6931, Val Acc: 48.18%, Time: 165.91s\n"
     ]
    },
    {
     "name": "stderr",
     "output_type": "stream",
     "text": [
      "Epoch 8/10 [Train]: 100%|██████████| 817/817 [02:27<00:00,  5.53it/s, loss=0.693, acc=50.19%, mem=118.8MB]\n",
      "Epoch 8/10 [Valid]: 100%|██████████| 103/103 [00:15<00:00,  6.49it/s, loss=0.6931, acc=48.18%]\n"
     ]
    },
    {
     "name": "stdout",
     "output_type": "stream",
     "text": [
      "Epoch 8/10 - Train Loss: 0.6931, Train Acc: 50.19%, Val Loss: 0.6931, Val Acc: 48.18%, Time: 164.22s\n"
     ]
    },
    {
     "name": "stderr",
     "output_type": "stream",
     "text": [
      "Epoch 9/10 [Train]: 100%|██████████| 817/817 [02:28<00:00,  5.51it/s, loss=0.693, acc=50.19%, mem=118.8MB]\n",
      "Epoch 9/10 [Valid]: 100%|██████████| 103/103 [00:16<00:00,  6.32it/s, loss=0.6931, acc=48.18%]\n"
     ]
    },
    {
     "name": "stdout",
     "output_type": "stream",
     "text": [
      "Epoch 9/10 - Train Loss: 0.6931, Train Acc: 50.19%, Val Loss: 0.6931, Val Acc: 48.18%, Time: 164.67s\n"
     ]
    },
    {
     "name": "stderr",
     "output_type": "stream",
     "text": [
      "Epoch 10/10 [Train]: 100%|██████████| 817/817 [02:29<00:00,  5.48it/s, loss=0.693, acc=50.19%, mem=118.8MB]\n",
      "Epoch 10/10 [Valid]: 100%|██████████| 103/103 [00:15<00:00,  6.54it/s, loss=0.6931, acc=48.18%]"
     ]
    },
    {
     "name": "stdout",
     "output_type": "stream",
     "text": [
      "Epoch 10/10 - Train Loss: 0.6931, Train Acc: 50.19%, Val Loss: 0.6931, Val Acc: 48.18%, Time: 165.38s\n"
     ]
    },
    {
     "name": "stderr",
     "output_type": "stream",
     "text": [
      "\n"
     ]
    }
   ],
   "source": [
    "ye_net = train(\n",
    "    model=ye_net,\n",
    "    train_loader=train_loader,\n",
    "    val_loader=val_loader,\n",
    "    criterion=criterion,\n",
    "    optimizer=optimizer_ye,\n",
    "    scheduler=torch.optim.lr_scheduler.ReduceLROnPlateau(optimizer_ye, 'min', patience=3, factor=0.5),\n",
    "    num_epochs=10,\n",
    "    device=device,\n",
    "    save_path='models/ye_net1.pth',\n",
    "    accumulation_steps=accumulation_steps,\n",
    "    use_amp=use_amp,\n",
    "    scaler=scaler\n",
    ")"
   ]
  },
  {
   "cell_type": "markdown",
   "id": "fcfe1a41",
   "metadata": {},
   "source": [
    "# Testing"
   ]
  },
  {
   "cell_type": "code",
   "execution_count": 7,
   "id": "84ef5c68",
   "metadata": {},
   "outputs": [],
   "source": [
    "def classify_image(image_path, model, device):\n",
    "    transform = transforms.Compose([\n",
    "        transforms.Resize((512, 512)),\n",
    "        transforms.ToTensor(),\n",
    "    ])\n",
    "    \n",
    "    image = Image.open(image_path).convert('RGB')\n",
    "    image = transform(image).unsqueeze(0).to(device)\n",
    "    \n",
    "    model.eval()\n",
    "    with torch.no_grad():\n",
    "        output = model(image)\n",
    "        prediction = (output > 0.5).float()\n",
    "    \n",
    "    return prediction.item()"
   ]
  },
  {
   "cell_type": "code",
   "execution_count": 15,
   "id": "f4951d95",
   "metadata": {},
   "outputs": [
    {
     "name": "stdout",
     "output_type": "stream",
     "text": [
      "Prediction for cover: Cover\n",
      "Prediction for stego: Stego\n"
     ]
    }
   ],
   "source": [
    "cover = './dataset_8/cover/18157.png'\n",
    "stego = './dataset_8/stego/18157.png'\n",
    "prediction_cover = classify_image(cover, ye_net, device)\n",
    "prediction_stego = classify_image(stego, ye_net, device)\n",
    "print(f'Prediction for cover: {\"Stego\" if prediction_cover == 1 else \"Cover\"}')\n",
    "print(f'Prediction for stego: {\"Stego\" if prediction_stego == 1 else \"Cover\"}')"
   ]
  },
  {
   "cell_type": "code",
   "execution_count": null,
   "id": "1e548c46",
   "metadata": {},
   "outputs": [],
   "source": []
  }
 ],
 "metadata": {
  "kernelspec": {
   "display_name": "datasci",
   "language": "python",
   "name": "python3"
  },
  "language_info": {
   "codemirror_mode": {
    "name": "ipython",
    "version": 3
   },
   "file_extension": ".py",
   "mimetype": "text/x-python",
   "name": "python",
   "nbconvert_exporter": "python",
   "pygments_lexer": "ipython3",
   "version": "3.11.11"
  }
 },
 "nbformat": 4,
 "nbformat_minor": 5
}
