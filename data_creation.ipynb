{
 "cells": [
  {
   "cell_type": "markdown",
   "id": "698ca06b",
   "metadata": {},
   "source": [
    "# Dataset Creation for Steganography"
   ]
  },
  {
   "cell_type": "markdown",
   "id": "f34c43e9",
   "metadata": {},
   "source": [
    "## Import Required Libraries"
   ]
  },
  {
   "cell_type": "code",
   "execution_count": 2,
   "id": "3cf33d2f",
   "metadata": {},
   "outputs": [],
   "source": [
    "import os\n",
    "import shutil\n",
    "import glob\n",
    "import random\n",
    "import string\n",
    "from PIL import Image\n",
    "import numpy as np\n",
    "from tqdm import tqdm\n",
    "import pandas as pd"
   ]
  },
  {
   "cell_type": "markdown",
   "id": "1abd5eea",
   "metadata": {},
   "source": [
    "## Copies cover images from a source directory to a destination directory"
   ]
  },
  {
   "cell_type": "code",
   "execution_count": 9,
   "id": "f1413c5c",
   "metadata": {},
   "outputs": [],
   "source": [
    "def copy_cover_images(dataset_folder):\n",
    "    source_dir = 'dataset_8/cover/'\n",
    "    destination_dir = dataset_folder + '/cover'\n",
    "    os.makedirs(destination_dir, exist_ok=True)\n",
    "    \n",
    "    for file in glob.glob(os.path.join(source_dir, '*')):\n",
    "        if os.path.exists(os.path.join(destination_dir, os.path.basename(file))):\n",
    "            continue\n",
    "        shutil.copy(file, destination_dir)"
   ]
  },
  {
   "cell_type": "markdown",
   "id": "efcc8627",
   "metadata": {},
   "source": [
    "## Generates metadata for the cover images, storing details such as image name, label(stego/cover), start index, message length"
   ]
  },
  {
   "cell_type": "code",
   "execution_count": 10,
   "id": "932eadda",
   "metadata": {},
   "outputs": [],
   "source": [
    "def make_metadata_cover(dataset_path):\n",
    "    metadata_file_path = os.path.join(dataset_path, 'metadata_cover.txt')\n",
    "\n",
    "    with open(metadata_file_path, 'w') as metadata_file:\n",
    "        metadata_file.write('image_name,is_stego,start_index,message_length_bits\\n')\n",
    "\n",
    "        cover_files = glob.glob(os.path.join(dataset_path, 'cover', '*'))\n",
    "        \n",
    "        for cover_file in cover_files:\n",
    "            file_name = os.path.basename(cover_file)\n",
    "            metadata_file.write(f'{file_name},0,0,0\\n')"
   ]
  },
  {
   "cell_type": "markdown",
   "id": "ed9bd3d6",
   "metadata": {},
   "source": [
    "## Encodes a binary message into an image using the LSB method(random start index, sequential encoding)"
   ]
  },
  {
   "cell_type": "code",
   "execution_count": null,
   "id": "67308d8f",
   "metadata": {},
   "outputs": [],
   "source": [
    "def string_to_binary(message):\n",
    "    return ''.join(format(ord(c), '08b') for c in message)\n",
    "\n",
    "def random_message(length):\n",
    "    characters = string.ascii_letters + string.digits + string.punctuation + ' '\n",
    "    return ''.join(random.choice(characters) for _ in range(length))\n",
    "\n",
    "def encode_lsb_row_wise(image, binary_message, bits=1):\n",
    "    encoded_image = image.copy()\n",
    "    height, width, channels = encoded_image.shape\n",
    "    bin_len = len(binary_message)\n",
    "    \n",
    "    total_pixels = height * width * channels\n",
    "    random_start = random.randint(0, max(0, total_pixels - (bin_len // bits) - 10))\n",
    "    flat_image = encoded_image.reshape(-1)\n",
    "    \n",
    "    # Calculate maximum number of bits we can encode\n",
    "    max_bits = (len(flat_image) - random_start) * bits\n",
    "    if len(binary_message) > max_bits:\n",
    "        binary_message = binary_message[:max_bits]\n",
    "    \n",
    "    index = random_start\n",
    "    binary_index = 0\n",
    "    \n",
    "    while binary_index < len(binary_message) and index < len(flat_image):\n",
    "        bit_end = min(binary_index + bits, len(binary_message))\n",
    "        bits_to_encode = binary_message[binary_index:bit_end]\n",
    "        \n",
    "        # Pad with zeros if needed\n",
    "        bits_to_encode = bits_to_encode.ljust(bits, '0')\n",
    "        \n",
    "        # Convert binary string to integer\n",
    "        binary_value = int(bits_to_encode, 2)\n",
    "        \n",
    "        if bits == 8:\n",
    "            # For 8-bit encoding, completely replace the byte\n",
    "            flat_image[index] = binary_value\n",
    "        else:\n",
    "\n",
    "            mask = 256 - (2**bits)\n",
    "            pixel_value = flat_image[index]\n",
    "            pixel_value = (pixel_value & mask) | binary_value\n",
    "            flat_image[index] = pixel_value\n",
    "        \n",
    "        index += 1\n",
    "        binary_index += bits\n",
    "    \n",
    "    encoded_image = flat_image.reshape(height, width, channels)\n",
    "    return encoded_image, random_start"
   ]
  },
  {
   "cell_type": "markdown",
   "id": "bb264639",
   "metadata": {},
   "source": [
    "## Generates metadata for the stego images, storing details such as image name, label(stego/cover), start index, message length"
   ]
  },
  {
   "cell_type": "code",
   "execution_count": 12,
   "id": "b1c9c61c",
   "metadata": {},
   "outputs": [],
   "source": [
    "def create_stego_metadata(dataset_dir, bits):\n",
    "    os.makedirs(os.path.join(dataset_dir, 'stego'), exist_ok=True)\n",
    "    cover_files = glob.glob(os.path.join(dataset_dir, 'cover', '*'))\n",
    "    metadata_file_path = os.path.join(dataset_dir, 'metadata_stego.txt')\n",
    "    \n",
    "    with open(metadata_file_path, 'w') as metadata_file:\n",
    "        metadata_file.write('image_name,is_stego,start_index,message_length_bits\\n')\n",
    "\n",
    "        for cover_file in tqdm(cover_files, desc='Processing cover images'):\n",
    "            cover_image = Image.open(cover_file)\n",
    "            cover_image = cover_image.convert('RGB')\n",
    "            cover_image_array = np.array(cover_image)\n",
    "            \n",
    "            message_length = random.randint(2000, 3000)\n",
    "            message = random_message(message_length)\n",
    "            binary_message = string_to_binary(message)\n",
    "            \n",
    "            encoded_image, random_start = encode_lsb_row_wise(cover_image_array, binary_message, bits=bits)\n",
    "            \n",
    "            stego_image = Image.fromarray(encoded_image.astype('uint8'))\n",
    "            stego_file_name = os.path.join(dataset_dir, 'stego', os.path.basename(cover_file))\n",
    "            stego_image.save(stego_file_name)\n",
    "            metadata_file.write(f'{os.path.basename(cover_file)},1,{random_start},{len(binary_message)}\\n')"
   ]
  },
  {
   "cell_type": "markdown",
   "id": "60b6da50",
   "metadata": {},
   "source": [
    "## Combining both the metadata for stego and cover"
   ]
  },
  {
   "cell_type": "code",
   "execution_count": 13,
   "id": "a97f71da",
   "metadata": {},
   "outputs": [],
   "source": [
    "def combine_metadata(dataset_path):\n",
    "    metadata_cover_path = os.path.join(dataset_path, 'metadata_cover.txt')\n",
    "    metadata_stego_path = os.path.join(dataset_path, 'metadata_stego.txt')\n",
    "    \n",
    "    cover_df = pd.read_csv(metadata_cover_path)\n",
    "    stego_df = pd.read_csv(metadata_stego_path)\n",
    "    \n",
    "    combined_df = pd.concat([cover_df, stego_df], ignore_index=True)\n",
    "    combined_df.to_csv(os.path.join(dataset_path, 'metadata.txt'), index=False)"
   ]
  },
  {
   "cell_type": "markdown",
   "id": "1b236a7c",
   "metadata": {},
   "source": [
    "# Function for creating the dataset"
   ]
  },
  {
   "cell_type": "code",
   "execution_count": 14,
   "id": "63c6d8e4",
   "metadata": {},
   "outputs": [],
   "source": [
    "def create_dataset(dataset_folder, bits):\n",
    "    copy_cover_images(dataset_folder)\n",
    "    make_metadata_cover(dataset_folder)\n",
    "    create_stego_metadata(dataset_folder, bits=bits)\n",
    "    combine_metadata(dataset_folder)"
   ]
  },
  {
   "cell_type": "markdown",
   "id": "1b02a42b",
   "metadata": {},
   "source": [
    "## Create Dataset with 8 Bits"
   ]
  },
  {
   "cell_type": "code",
   "execution_count": null,
   "id": "1aeab111",
   "metadata": {},
   "outputs": [],
   "source": [
    "make_metadata_cover('dataset_8')\n",
    "create_stego_metadata('dataset_8', bits=8)\n",
    "combine_metadata('dataset_8')"
   ]
  },
  {
   "cell_type": "markdown",
   "id": "57197866",
   "metadata": {},
   "source": [
    "## Create Dataset with 7 Bits"
   ]
  },
  {
   "cell_type": "code",
   "execution_count": null,
   "id": "aa811a09",
   "metadata": {},
   "outputs": [],
   "source": [
    "create_dataset('dataset_7', bits=7)"
   ]
  },
  {
   "cell_type": "markdown",
   "id": "af3c860c",
   "metadata": {},
   "source": [
    "## Create Dataset with 6 Bits"
   ]
  },
  {
   "cell_type": "code",
   "execution_count": 9,
   "id": "7a3e9029",
   "metadata": {},
   "outputs": [
    {
     "name": "stderr",
     "output_type": "stream",
     "text": [
      "Processing cover images: 100%|██████████| 16338/16338 [23:34<00:00, 11.55it/s]\n"
     ]
    }
   ],
   "source": [
    "create_dataset('dataset_6', bits=6)"
   ]
  },
  {
   "cell_type": "markdown",
   "id": "d4d0a1cf",
   "metadata": {},
   "source": [
    "## Create Dataset with 5 Bits"
   ]
  },
  {
   "cell_type": "code",
   "execution_count": 10,
   "id": "090963b2",
   "metadata": {},
   "outputs": [
    {
     "name": "stderr",
     "output_type": "stream",
     "text": [
      "Processing cover images: 100%|██████████| 16338/16338 [19:17<00:00, 14.12it/s]\n"
     ]
    }
   ],
   "source": [
    "create_dataset('dataset_5', bits=5)"
   ]
  },
  {
   "cell_type": "markdown",
   "id": "a11a7bb0",
   "metadata": {},
   "source": [
    "## Create Dataset with 4 Bits"
   ]
  },
  {
   "cell_type": "code",
   "execution_count": 11,
   "id": "0a2de4fa",
   "metadata": {},
   "outputs": [
    {
     "name": "stderr",
     "output_type": "stream",
     "text": [
      "Processing cover images: 100%|██████████| 16338/16338 [19:40<00:00, 13.84it/s]\n"
     ]
    }
   ],
   "source": [
    "create_dataset('dataset_4', bits=4)"
   ]
  },
  {
   "cell_type": "markdown",
   "id": "4e3f0c78",
   "metadata": {},
   "source": [
    "## Create Dataset with 3 Bits"
   ]
  },
  {
   "cell_type": "code",
   "execution_count": 12,
   "id": "98441638",
   "metadata": {},
   "outputs": [
    {
     "name": "stderr",
     "output_type": "stream",
     "text": [
      "Processing cover images: 100%|██████████| 16338/16338 [41:04<00:00,  6.63it/s]\n"
     ]
    }
   ],
   "source": [
    "create_dataset('dataset_3', bits=3)"
   ]
  },
  {
   "cell_type": "markdown",
   "id": "907eacd4",
   "metadata": {},
   "source": [
    "## Create Dataset with 2 Bits"
   ]
  },
  {
   "cell_type": "code",
   "execution_count": 13,
   "id": "d6f8abfa",
   "metadata": {},
   "outputs": [
    {
     "name": "stderr",
     "output_type": "stream",
     "text": [
      "Processing cover images: 100%|██████████| 16338/16338 [40:04<00:00,  6.79it/s]\n"
     ]
    }
   ],
   "source": [
    "create_dataset('dataset_2', bits=2)"
   ]
  },
  {
   "cell_type": "markdown",
   "id": "49824971",
   "metadata": {},
   "source": [
    "## Create Dataset with 1 Bit"
   ]
  },
  {
   "cell_type": "code",
   "execution_count": 15,
   "id": "98b0bc69",
   "metadata": {},
   "outputs": [
    {
     "name": "stderr",
     "output_type": "stream",
     "text": [
      "Processing cover images: 100%|██████████| 16338/16338 [30:34<00:00,  8.91it/s]\n"
     ]
    }
   ],
   "source": [
    "create_dataset('dataset_1', bits=1)"
   ]
  },
  {
   "cell_type": "code",
   "execution_count": null,
   "id": "5de2489e",
   "metadata": {},
   "outputs": [],
   "source": []
  }
 ],
 "metadata": {
  "kernelspec": {
   "display_name": "datasci",
   "language": "python",
   "name": "python3"
  },
  "language_info": {
   "codemirror_mode": {
    "name": "ipython",
    "version": 3
   },
   "file_extension": ".py",
   "mimetype": "text/x-python",
   "name": "python",
   "nbconvert_exporter": "python",
   "pygments_lexer": "ipython3",
   "version": "3.11.11"
  }
 },
 "nbformat": 4,
 "nbformat_minor": 5
}
